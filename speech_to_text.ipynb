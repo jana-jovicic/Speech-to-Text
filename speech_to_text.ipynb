{
  "nbformat": 4,
  "nbformat_minor": 0,
  "metadata": {
    "colab": {
      "name": "speech_to_text.ipynb",
      "provenance": [],
      "toc_visible": true,
      "include_colab_link": true
    },
    "kernelspec": {
      "display_name": "Python 3",
      "language": "python",
      "name": "python3"
    },
    "language_info": {
      "codemirror_mode": {
        "name": "ipython",
        "version": 3
      },
      "file_extension": ".py",
      "mimetype": "text/x-python",
      "name": "python",
      "nbconvert_exporter": "python",
      "pygments_lexer": "ipython3",
      "version": "3.7.3"
    }
  },
  "cells": [
    {
      "cell_type": "markdown",
      "metadata": {
        "id": "view-in-github",
        "colab_type": "text"
      },
      "source": [
        "<a href=\"https://colab.research.google.com/github/jana-jovicic/Speech-to-Text/blob/master/speech_to_text.ipynb\" target=\"_parent\"><img src=\"https://colab.research.google.com/assets/colab-badge.svg\" alt=\"Open In Colab\"/></a>"
      ]
    },
    {
      "cell_type": "code",
      "metadata": {
        "colab_type": "code",
        "id": "bdlmrtAHDxT6",
        "outputId": "3473a18b-9c6e-44c9-b0b9-2d25f102a12d",
        "colab": {
          "base_uri": "https://localhost:8080/",
          "height": 142
        }
      },
      "source": [
        "!git clone https://github.com/jana-jovicic/Speech-to-Text.git"
      ],
      "execution_count": 1,
      "outputs": [
        {
          "output_type": "stream",
          "text": [
            "Cloning into 'Speech-to-Text'...\n",
            "remote: Enumerating objects: 1205, done.\u001b[K\n",
            "remote: Counting objects: 100% (1205/1205), done.\u001b[K\n",
            "remote: Compressing objects: 100% (1203/1203), done.\u001b[K\n",
            "remote: Total 1205 (delta 6), reused 1189 (delta 0), pack-reused 0\u001b[K\n",
            "Receiving objects: 100% (1205/1205), 25.07 MiB | 20.25 MiB/s, done.\n",
            "Resolving deltas: 100% (6/6), done.\n"
          ],
          "name": "stdout"
        }
      ]
    },
    {
      "cell_type": "code",
      "metadata": {
        "colab_type": "code",
        "id": "bMKQ9vQ9EX96",
        "outputId": "7d28e59f-86d1-409c-be47-3fcc06a6513a",
        "colab": {
          "base_uri": "https://localhost:8080/",
          "height": 35
        }
      },
      "source": [
        "!ls Speech-to-Text"
      ],
      "execution_count": 0,
      "outputs": [
        {
          "output_type": "stream",
          "text": [
            "dataset  README.md  speech_to_text.ipynb\n"
          ],
          "name": "stdout"
        }
      ]
    },
    {
      "cell_type": "code",
      "metadata": {
        "colab_type": "code",
        "id": "4QR-nc18-FQX",
        "colab": {}
      },
      "source": [
        "import os\n",
        "import librosa\n",
        "import IPython.display as ipd\n",
        "import matplotlib.pyplot as plt\n",
        "import numpy as np\n",
        "from scipy.io import wavfile \n",
        "import warnings\n",
        "from sklearn.preprocessing import LabelEncoder\n",
        "from sklearn.model_selection import train_test_split\n",
        "warnings.filterwarnings(\"ignore\")"
      ],
      "execution_count": 0,
      "outputs": []
    },
    {
      "cell_type": "code",
      "metadata": {
        "id": "nPmy_z2LNTwk",
        "colab_type": "code",
        "colab": {}
      },
      "source": [
        "import tensorflow as tf\n",
        "from tensorflow.keras.layers import Dense, Flatten, Conv1D, Dropout, Input, MaxPooling1D\n",
        "from tensorflow.keras import Model, Sequential\n",
        "from tensorflow.keras.utils import to_categorical\n",
        "from tensorflow.keras.callbacks import EarlyStopping, ModelCheckpoint"
      ],
      "execution_count": 0,
      "outputs": []
    },
    {
      "cell_type": "code",
      "metadata": {
        "colab_type": "code",
        "id": "Elexa8f8Ei6s",
        "colab": {}
      },
      "source": [
        "train_path = 'Speech-to-Text' + os.path.sep + 'dataset' + os.path.sep + 'train'\n",
        "test_path = 'Speech-to-Text' + os.path.sep + 'dataset' + os.path.sep + 'test'"
      ],
      "execution_count": 0,
      "outputs": []
    },
    {
      "cell_type": "markdown",
      "metadata": {
        "colab_type": "text",
        "id": "QvIrOzOPFSQP"
      },
      "source": [
        "# Explore datatset"
      ]
    },
    {
      "cell_type": "markdown",
      "metadata": {
        "colab_type": "text",
        "id": "-xBbBw60Icqo"
      },
      "source": [
        "Plot amplitude over time of one audio recording:"
      ]
    },
    {
      "cell_type": "code",
      "metadata": {
        "colab_type": "code",
        "id": "_iKTc6-eFgEL",
        "outputId": "398f4901-761b-4bd5-a004-078d8853e858",
        "colab": {
          "base_uri": "https://localhost:8080/",
          "height": 385
        }
      },
      "source": [
        "samples, sample_rate = librosa.load(train_path + os.path.sep + 'yes' + os.path.sep + '0a7c2a8d_nohash_0.wav')\n",
        "print(samples)\n",
        "print(sample_rate)\n",
        "print(len(samples))\n",
        "\n",
        "fig = plt.figure(figsize=(14, 8))\n",
        "ax1 = fig.add_subplot(211)\n",
        "ax1.set_title('Raw wave of yes/0a7c2a8d_nohash_0.wav')\n",
        "ax1.set_xlabel('time')\n",
        "ax1.set_ylabel('Amplitude')\n",
        "ax1.plot(np.linspace(0, sample_rate/len(samples), sample_rate), samples)"
      ],
      "execution_count": 15,
      "outputs": [
        {
          "output_type": "stream",
          "text": [
            "[ 4.0688968e-04  3.1694559e-05 -4.5456085e-04 ...  5.9469097e-04\n",
            "  8.1928732e-04  6.3908176e-04]\n",
            "22050\n",
            "22050\n"
          ],
          "name": "stdout"
        },
        {
          "output_type": "execute_result",
          "data": {
            "text/plain": [
              "[<matplotlib.lines.Line2D at 0x7fdd180031d0>]"
            ]
          },
          "metadata": {
            "tags": []
          },
          "execution_count": 15
        },
        {
          "output_type": "display_data",
          "data": {
            "image/png": "[encoded data removed]",
            "text/plain": [
              "<Figure size 1008x576 with 1 Axes>"
            ]
          },
          "metadata": {
            "tags": []
          }
        }
      ]
    },
    {
      "cell_type": "code",
      "metadata": {
        "colab_type": "code",
        "id": "Rg_4UKArIIQW",
        "outputId": "f4441ba8-fa07-4039-8e8f-dd9852449825",
        "colab": {
          "base_uri": "https://localhost:8080/",
          "height": 60
        }
      },
      "source": [
        "ipd.Audio(samples, rate=sample_rate)"
      ],
      "execution_count": 6,
      "outputs": [
        {
          "output_type": "execute_result",
          "data": {
            "text/html": [
              "\n",
              "                <audio controls=\"controls\" >\n",
              "                    <source src=\"data:audio/wav;base64,UklGRmisAABXQVZFZm10IBAAAAABAAEAIlYAAESsAAACABAAZGF0YUSsAAAuAAMAzf/V/wAAIQAjAP3/0//S//b/JwBKAEUAJAAEAPb/+f8JACEANgAtAAUA4//i/wUAMQA+AB4A6P+7/7b/2v8EAA8A6P+i/3T/gP+0/+r////e/6D/g/+n//H/JwAiAOn/p/+H/6T/+f9KAFQAGgDf/8j/2f8VAGIAdgA+APb/0//j/xMARABOACgA7//M/9L/9v8ZABsA8v/B/7P/wP/R/+P/7P/f/83/0//t//z/+f/3//3/9v/f/8v/yf/U/9//3P/M/8f/2f/o/+D/1P/a/+f/7//s/9v/zf/Q/9z/7/8IABgAEQD9/+z/8/8aAEkAYABYAD8AKwAwAEsAaAB3AG8AVAA6ACgAHAAbACgAOAA0AB0ABQD6/wQAIwA6AD4AOwAxACEAJQA/AFAAVABPADMAFAAZADgASAA8ACIABADj/8//1//u/wIADwAPAAUAAwD//+j/2P/k/+z/3P/X/+r//P////v/+v/8/wAAAAD6//X/8P/v//r/CgASAAkA+P/p/+b/8f8BAAoAAADc/7b/r//O//P/+v/q/9j/yv/H/+D/BwAWAPz/yP+a/5X/yf8NADEAJQD6/8P/qf/L/w0ALgANAL//c/9g/5j/7P8eABcA5f+y/63/2v8WAD4APwAXAO3/6P8LAEgAfgCCAEkAAwDt/w0ASwB7AHwAVAAkAAcABAAVACcAIgD6/8b/rv/C//f/IAAeAAAA6//j/97/5v8AABEABwDl/73/qf++//D/CgD2/9X/zP/X/+P/8P/8//v/6P/Q/8n/2v/z/wQABwABAP///P/0//D/9v8EABwAJgAUAAAAAAALACMAQwBUAE4APgAuADEATwBsAHEAYgBDAB4AFQAtAEUARAAuABIAAAD9////CAAYACAAHAAYABoAHAAcACQALAAhAAwAAQD8//v/CQAgACYAEgD3/+X/4P/m//L//P/8//P/4v/W/+L///8OAAoAAwD9//P/8P/8/wsAEwAMAP3/8//7/woADwAHAPj/5//b/97/8/8JABEACgD9/+b/2P/h/+n/3f/M/8H/sv+h/5z/qf/I/+v/+v/v/9n/zf/Q/9f/1P/O/8n/xf/J/9v/9f8AAO//0v/O/+X/+/8DAAEA9P/j/+f///8PABEADAAHAAEA+v/9/wsAFQAaACAAIgAbABYAEgARABcAGwARAAIA+f/s/+b/BQA/AFQAKgDv/9j/8v8jAEoASwAjAO7/1f/9/04AigB9ACYAwf+a/9H/OgCRAJIALwCz/3b/nP8RAJkAyABxAOX/i/+a/xAAmwDMAIwAHQDQ/97/QgCkALgAeAAGAK7/uf8WAGsAdgA8AO3/xv/b/wEAEgAMAAAA9f/1/wkAIgAfAPb/xf+0/87/9f/+/+X/vP+a/5b/wP8AACUADgDG/4X/jP/U/yEAQQAiANP/jv+O/8r/BgAYAPT/sf94/2//m//b////7f+1/4P/gP+i/8T/1//h/9n/wP+4/9b//P8HAP7/5//H/7j/0//4/wEAAAD8//H/7f/8/wsADgANAA0AFQAmADQAOAAxACEAFwAmAEYAWwBNACQAAwAHACYAPAA3ABsA+f/l//f/LABcAE8AAwC2/6X/5/9ZAKYAiwAfALf/nv/s/2wAuQCQAAwAi/9i/7T/SwCrAIAA+f96/13/0P+LAO8ArgAIAHL/Uv/D/2sAxACQAPr/c/9r/+n/hADBAG4Aw/9B/07/0/9dAI4ASgC9/1D/Yv/k/24AlAAvAIj/Kv9d//X/igC2AFEAs/9c/3z/8P9sAJcASwDJ/3z/of8kAKMAtABXAOv/u//a/zQAlACvAGcA+f++/93/LwBtAGUAGQDG/6P/v////zIAKADm/6v/q//h/yQASAAxAO3/tP+3/+n/GQAtABsA5f+t/6P/yf/+/yEAJQAJAOX/z//O/9X/3//1/xIAFAD1/9z/4f/1/wQACgAFAP7/8P/d/9X/2//e/93/3v/e/97/1/+7/5T/gP+e/+f/KQAyAPz/q/+A/6j/DQBrAIUASwDk/5H/j//z/3oAqwBkAPn/sv+q/+r/QwBcACMA3P/C/+L/HwBLAD8A+v+z/6j/2f8VACcA7P+P/23/pv8NAFcAQwDd/4T/gv/O/z4AjwCGACsAy/+3/wwAiwDNAKoAPQDH/5//5P9RAIsAeQA0AOf/x//7/1kAfwBHAPX/0/8AAFoAkQBiAO3/k/+T/+H/QgBvADgAwf94/6n/LwCiAKgAPgC+/4f/vv8+AKQAjAD7/2D/Ov+l/z8AjgBZAMb/Sf9c/+j/WQBYAPP/c/9M/7D/OgB2AEYAxv9R/2D/7v96AKAAUADN/4H/qv8RAFwAVgAHAKn/iv/S/0sAmACCACIAx/+1/+//PABkAEwAEQDy/wMAKABAADUA+v+r/4T/nv/S//r/BwDw/7r/iv+C/6H/1/8AAPj/xv+l/7r/+P9AAHEAawA2AP3/5P8AAEcAggByABgAuf+T/7//HQBuAHUAKQDC/5D/uv8iAIkAowBbAPb/vv/N/xcAZwB7AE4ADgDb/9T/DQBZAHAASAAPAOj/3//3/x0ALQAaAAIA//8HABEAGAAOAO//zv/N//H/FAATAPP/y/+t/6//2/8PACAAAADS/8f/7P8jAEUALQDl/6n/o//D/+v/AADv/8D/of+x/93/9//p/8T/pv+j/8T/7v8AAAAABQAEAPj/8P/0//z/AQAEAPz/4v/B/7P/yf/9/ygAJQD//9z/1f/s/wsADwD5/+b/3P/U/+b/CAANAPD/2v/s/yAAUQBLAA8A2f/W//z/IAAwACkAEQD//w0AMgBLAE4ANwD8/8X/zP8AACwAPwA1AAwA6//0/wsAFQAeACgAHAAHAAYAFwAiAB4AEgAKAAsAEgAbAB8AGAATABQAFQAXABwAFAD8/+X/5P/8/xYAEQD2/+f/9P8LABsAHQAVAAcA/f8JADkAbwBtACEAzP+6//L/OABPACgA9f/o//P/8v/x/xAAOQA5AA8A6v/W/83/6/87AHoAYAAAAJ//ef+v/yAAdgBmAP3/j/90/7v/KgBtAE8A7v+l/67/7/8rADcACwDN/7r/8v9AAFgAJQDR/4z/gv/D/x4ATwA7APD/n/+O/8T/AQAbAAMAvf9x/2b/uf8vAGIAHwCm/1j/Wv+j/xMAawBiAPn/hP9Y/5H//f9EAEUAHADq/8T/xf/w/yoAVwBVAB4A4//E/8D/0//u//z/CQAXAAwA8P/o////KABKAEAADgDe/8T/u//B/9r/9f/0/9X/xv/b//r//v/q/+f/DgA7AEUAQABGAFIAcACkAMkAvQCFAEYAMQBaAJ8AtwBzAPv/pv+k/+P/MgBZADYA9f/U/+T/BwAeABEA4v+4/8X/FAB0AJAANQCa/0f/i/8wALgAtwAqAIT/Pv+H/zIAzADcAE8AmP9O/67/ZQDoANQAMQB9/0T/kP8DAE0AQQDh/3r/af+7/yQAPwDt/3b/SP+H//3/TwBJAPL/hf9X/5n/EQBTACoAuP9Y/2f/3v9KAE4A+v+a/3f/rv8fAGwAVAAKAOP/8P8hAF4AdABKAAkA8f8UAFkAgwBnABEAw//C/wUAOgAzAAAAvf+b/8P/EQBBAD0ACwDA/5n/yP8dAEgAMQD+/9f/0v/s/xQAMwAoAO7/p/+O/7j/+v8cABMA5v+o/4j/pP/g/wcAAQDV/6f/m/+p/8X/8P8XABMA5v+8/7j/2f8KAC8ALgAQAPT/5P/o/wwASAByAG0AOwACAO3/+/8YADsASAAsAAQA8f/6/yQATQA5APb/zf/X/wAALQBJADsAFQD8//7/FQBCAGUAVAAUAN3/zP/x/0IAhQB4ACsA3//J//P/KQBBADkACgC5/5D/xP8sAHwAdQACAG//Lv9j/+D/VwBrAP7/dv9Y/7j/OAB5AFcA7/+Q/5L/7/9DAEwAHwDk/7n/wv/9/zEAMgAGAN3/3f/+/xsAHAD7/9H/z//7/xwAGQAVACQALAAYAPH/zv/S/xEAZQCDAFoA/v+Y/3f/zv9SAIwAUwDf/5H/sP8fAH4AiwBBAND/g/+X//n/UgBkADkABwD2/wYAIwAmAAoA8v/3/xAALQA/ADgADgDZ/8L/2v/6/wMAAAD+//7/BAAHAO7/wf+t/8X/7/8AAOn/uf+a/6n/2f8BAA8ACAD1/+P/6P8BABcAGgAFAOb/2f/s/wAA9//f/9j/6f8AAAUA7v/J/7X/wv/v/ygANQD+/8n/1v8CAB8AJwAbAPz/4P/e//f/DwAOAAAA9v/p/+b/BgAxADwALQAkAC4APQAzAAEAyP+0/9D///8aAA8A5P+2/6v/2P8ZADoAIgDf/5X/gP/D/zgAiABvAAIAmf93/7X/NACaAJMAKQCu/3L/p/8ZAGUAXQAVAMD/pf/t/2EAsQCuAFAAzP95/4z//v+CAKsAVgDS/4D/kv8AAHkAoQBVAMb/Vf9b/9n/bACuAH8ACwCY/2v/sv9DAKUAgwD3/1n/Gv+D/1EA4gDVAEAAiv8w/3j/MADTAOAARgB8/yT/hP9ZABABHQFmAHD/9/5U/zoABwEtAZgAs/8S/yT/4/+/AA0BrQD8/2b/Rf+y/1sAyQC/AEQApv9S/3r/6v9NAGcALADM/4n/iP/F/xYAPwApAPf/xf+Z/4v/u/8HAC4AHADp/7L/l/+0//v/QQBaAC8A3/+v/8P/9P8UACMAHwD5/8j/u//U//X/DgAOAO3/0P/R/9//9/8XABkA7//H/8D/2f8JAC0AKAAIAOX/0f/i/wYAIQAuAB0A6f/D/9j/EgBAADkABQDc/9r/9f8cADwAQAAzAB0A/v/0/xgATQBtAHEAWQAuABEAGwA+AFwAYwBRACkA///r//D/+v8KABsAFAD+//X/7//a/87/4P8NAEcAYwA8AO7/tv+w/93/KQBWADAA3P+e/5v/0f8TACwAEQDb/57/hP+k/9//DQAhABoABwD5/+X/z//S//T/JgBSAFQAJwD3/+j//v8vAFsAXwA2APL/rf+k/+v/QgBgADwA9/+7/6//3P8ZACgA8/+p/5T/vv/8/ysAMAAAAMD/r//d/yEAQgAgANT/nf+k/9r/CwAXAPL/nP9C/zn/l/8EACcA7/+L/03/ZP+5/xMAQgAdALv/Y/9W/6f/JABsAFQA//+c/2n/of8YAGgAbAAxAMz/fv+Q//3/eACuAIIAHwDI/67/6P9WAKkAqgBgAP7/vP/A/wEAVQCJAIAASwANAOD/4P8YAGQAhwBwADYA///q/wsAUwCPAI8ATQDo/5b/k//r/2MApQB4APP/e/9n/77/TQCzAIsA6f9V/zv/qP9gAOYAvgAAAET/D/96/z0A1ADHAAkAIP++/jj/PgAdATcBfACC//v+Qv8jAAABPgG0AL7/BP8K/8T/pQAaAccA2v8L/+7+dv9CAOEA6gBaAKj/VP+G/xEAnAC/AFkAvP9i/3v/3P9FAHIAOADG/3v/iP/Q/yMASgAkAMj/gv+N/9X/HABCAD0ADwDc/87/8f8uAF0ASgD3/6f/k/+4//r/MwBIAC4A8/+6/7T/5v8dACoA//+5/53/vf/q/wIABQDp/7b/nv+7/+//DwALAPT/2/+//67/wP/r/xIALQAtAA0A5P/I/8j/8P80AF0AQwAFAM//sf/J/x4AcQB1ACEArP9p/5f/DgBpAGUABgCI/0z/jP8WAIMAjQAvAKf/Vv+C/wkAgQCgAGIA9f+b/5//DwCnAPgAvgAkAKr/rv8rAMQA/ACeAAAApv+x/wAAZACYAGAA5P+F/4j/5v9SAHIAJwCt/2D/gv/5/2UAfQA4AMf/ff+O/+j/TQB8AEQAwv9e/2b/y/85AGcAPgDl/6D/o//d/xwAMwAUAOT/3f8JAEMAXQA2AN3/pf/N/y8AhwCRACYAgP80/5b/bQAlATUBjACp/zH/gP9sAEYBUAF5AGv/5f5B/zMAAAEWAXUAmP8Z/1j/HwDEAMwASQCm/0v/cf/w/2AAewA8ANj/n/+5//r/HgAMANj/sf+4/97/+v/+//P/5v/d/9j/0v/L/9P/6P/y/+r/6P/o/9r/2P/y/w4AEwD8/9b/xP/e/woAHwAKANT/nf+P/8P/IQBmAFcA+v+X/4n/3/9NAIIAYQD4/4P/XP+g/xEAUgAvAMv/ff+F/9r/NABJAA8Ayf+x/9j/JgBgAEoA+f+2/8H/DwBhAHUAOwDX/5D/ov/+/1UAWwAHAJ3/b/+O/9j/JwBMACQA1v+f/6H/3P8wAFgANQDm/5r/hv/A/xwAXABjACMAwP+a/9j/NABjAEMA4v+K/4b/3/9lAMgAsgAmAIP/Pv+d/28ABQHNAPj/Nv8d/83/1gBxARwBFQAq/xX/4v/hAEkB5AAPAGn/bv8YANUACwGaAOT/c/+V/xkAjACWADUAvf+N/8X/KgBmAEwA9f+q/6n/9/9MAFkAFAC3/4L/mf/o/y0AQAAmAPn/0P/E/9z/AAAPAAIA6//o/woAOABEACsAEAACAPz/AAAJAPz/2f/K/+D/DAAzADAA+f+1/5//yv8VAEQANgD//8n/uP/b/yAATAA4APL/n/9r/3H/r//3/wwA5v+3/63/vf/G/7//sv+1/9P/7f/m/8L/mv+U/8//LwBwAFsA+f+H/1b/hP/q/0AAVAAWALD/df+c/wQAXgBtACoAx/+J/4j/r//f//z/9P/j/+r/9v/z/+f/4f/y/ygAYwBjACYA5P/J//f/agDhAAYByABUAPL/4f8kAIQAvwC1AHQALwAHAP3/CwAzAFkAZABJAAQAsP+L/7z/HgBoAG8AOQDq/67/rP/w/2YA0ADcAHcA9v+1/9L/NQCnANYAmQAgALr/ov/q/18AngB2AAsAp/95/5T/3P8XAB8A9v+4/47/mf/M//T/9//d/7b/m/+d/7P/y//W/9H/0//q/wIADwAOAAEA+P8EACYAQwBEAB8A5//F/9f/BwArAC0AFgD2/9r/yf/I/9f/4f/Y/83/0f/Z/+L/9f8KABcAEwD3/9j/3f8DACUAJAAAANv/0v/j//f/BgAJAPb/1P/D/9f//P8JAPL/0f/I/9z/AAAhACQACADk/9P/4/8MAC0AIgDy/7j/nP+//w8AUABVACAA0v+e/6//9/9BAF0APQD//83/yf8AAFAAdgBUABIA3f/G/97/GQBEADUABQDo/+n/AAAgADQALQAdABIAGAA1AFAARQAiAA0ABgAIABsAKwAdAAIA9v///xYAKgAuACkAHQACAOX/3P/s/wAACAD9/+P/zf/I/87/1P/R/9D/1P/P/8D/xf/l/wAABAD+//n/AQAHAPf/4//k//H/+f/5//D/7P/y//P/6//k/+b/8f/9/wAA/f///wAA/f8AAA8AIAAkABYA+v/f/97//f8mADsAKAAAAOz/8v/8/wMAEwAdABYACAD8//f/DAAxAEMAOQAoABcAAAD3/wMAHgA8AEwAPgAdAAMA/f8HACIAOgA1AAgAzf+p/7P/3f8EAAsA8v/P/7n/sf/B/+z/CQD+/9z/xv/I/+j/DQAYABEAEwAPAPn/6P/r//f/CgAYABEACAAOAAwA/P/4/wgAGQAWAPL/uf+Y/67/4v8AAPP/zf+1/8D/5P8PAC0AKQAEANf/v//W/xcAUgBTACUA+v/5/x4ASwBaAEIAFADs/+D/9f8VAC4ANAAbAPX/6P/8/x4AOgA5ABcAAwAeAE8AcABtAEUAIgAoAE8AdwCAAFMAFAD6//3/AgAXADQALwAIAO7/8f8EABQADgDr/8X/wP/e/wsAJwAPANH/ov+f/7j/2f/u/+j/0v+6/6n/rv/G/93/3v/O/8D/zf/w/wkADgAVACMAJQAcABUADAAAAPD/4f/X/9j/4v/0//7/6v/I/7f/s/+6/9j/+/8CAPP/1f+8/9D/CgAxAC0AFQD7/+//9v/9///////n/7//t//X//z/EQATAP//5f/f/+j/9f8BAAgAAwD9////AgAEAAwAGgAXAAIA7P/a/9H/1//s//z/+//w/+3/9P8CABcAJQAcAAoAAAAAAAAABQARAB4AHgAOAAMACwAbABkA///k/+b/+f8EAAsAFwAhABoABwD+/wcAEgANAPv/5//m/wQALQBCAD8AMQAhACEAOwBcAGMASgAoAA4AAQALADEAVgBXADYADQD3/wAAHwA0ACsAFgANABAAFQAZACgAQABIADgAJwAnACwAMAA5AD4ANwAsACIAGAAcACwANAAxACQACwDx/+H/2f/X/93/4P/X/8X/sf+f/5f/oP+1/8P/wP+4/7D/n/+R/6L/zP/j/9r/zv/P/9z/+v8YAB4ADgD4/9//yf/C/8T/y//W/9v/z/+8/7n/zP/l//P/8v/p/+H/5//6/xAAIgAhAA8AAAD9/wAADAAfACAADQAIABoAJgAdAA0ABAAAAP//BAAPAA8ABgACAAMACQAaACgAHQAHAPr/7f/n//L/+v/v/+L/4v/m/+j/6v/v//f/+//y/+T/6P///w0ABwD5/+T/1f/X/9r/y//A/8L/u/+r/7H/zv/l/+n/8P/9/wQADwAlACoAEwACABAAKAA6AEIARgBRAFsATgA0ACoAMgA3ADkARQBaAGYAWwBMAEwATgBHAD0AMgAqACsAMwA7AEUARgAuABEACAAKAAUAAAABAAMAAAAFABoAMQA7ADcALAAbAAIA7f/r//f/+v/6////AAD5//L/7P/a/8P/u//F/9T/4P/q/+7/6f/l/+z/9P/v/+D/1P/V/9f/zv/K/9b/3f/T/8X/wv/O/+P/8P/v//D/+/8JABcAHgATAAQAAAABAAYAEwAhAB0ABADs/+D/3P/a/9X/yv/G/9n/8f/9/wEAAwD9/+z/1v/F/73/wv/N/9r/4f/b/9P/3P/v//r/+v/1/+r/4f/n//X///8GAAwADAAGAAAAAQALABQAEQAHAAIAAAD+//7/AAAAAP3/+P/2//X/+f8CAAQAAAALACQAMgA3ADsANAArACYAHQAVABMADwARAB8AJAAcABsAHQAVAAQA9f/u//L/+f8EABQAFQAIAAMACwAXACQAIQAMAP3/+P/z//T/AgAIAAMAAAAEAA0AGAAYAA0ACQAPABkAKgA7AD4ANAAmAB0AJQA3ADcAJQAZABcAIwA8AE4ASwBDAEUASABHAEAAMwAsADcATQBRADwAKQAlACYAHAAPAAoACwAGAPn/8v/0//H/7P/v//f//v/+//n/9v/2//L/6//i/9P/vf+v/63/sv+7/8X/xv+9/7D/pP+c/6D/rP+0/7D/pv+j/7D/xP/K/8X/wv+//7j/uP/H/9b/1f/N/9P/4//o/+j/7f/v/+j/5P/n/+n/8f8AAAkABgAAAAAAAQAHAAIA8P/e/9f/1P/V/9v/3v/b/9T/xv+5/7n/wP/H/9X/7P/+/wAAAAAGAA0AEgAYABwAIAAwAD4AMgAZABMAHwApACoAJgAiACUAJQAYABEAGgAlACsAMAArACIALABBAE4AVQBTAEYAPwBIAFIAVwBcAF0ATgA5AC8AMwA/AE4AVwBVAEUAMgApACkAKQArADAAKAATAA8AIAAlABkAGAAdABEAAAD//xEAKAA6AEQAQgAyAB4AEgAPABMAHQAqAC0AIwAPAPf/4P/X/93/6//6//7/8f/i/+L/5//u//3/BgD8/+T/1P/N/8//2f/m/+7/8v/5//b/4//T/9T/2v/Z/9X/0P/I/7//uv+3/7v/xP/J/8b/yf/N/8n/yf/X/+X/6//v/+3/6P/r/+7/8f/6/wAA/v/+/wMAAAD8/wAAAgDx/9n/0P/W/9X/z//S/9v/4f/t//n/+P/3//3/AQAJABcAGQARABQAIAAmACMAHQAbABwAGgAXABcAGwAaABQADwAJAAEA+v/3/wAAEAAgACcAIgAUABAAEwAPAAcABgAHAA8AHwAnACUAJgArADEAOAA1ACgAHgAXABEAEwAaABsAGAAZABYACQD//wQADgAWACAALQA0ADAAJwAdABgAFAAOAAYAAAAAAAUACgAJAAMAAAACAAIA9//o/+L/3//X/83/x//F/8b/yP/J/8L/u/+//8f/yP/G/8T/v/+7/8L/z//c/+j/7f/o/+T/4v/c/9P/1f/m//n/AQADAAYABQD///r/+v/4//b//f8GAAsADQAUABwAGgAPAAYA+v/n/+T/9v8BAAAABAATACoAOgAvABUACgAGAPr/7P/i/+P/+f8QABUAEwAOAAMA+//1/+n/5P/q/+v/7P/8/wYAAQAHABEACQD//wAAAgAOACAAGgAKAA0AEQAHAAAAAAAAAAEA/f/y//P/+//9/wAABQAFAP//+v/9/wAA/f/9/wYACQADAAAA///9/wAAAAABABUAMAA+AEMARQBCADkAKgAXABcAMABFAEgATABaAGEATwAwAB4AFwANAAMA/v/2//n/AQD+//n/AgAGAAAABAAKAAAA+v/5//b/+P8AAPb/4P/b/+P/3f/H/7f/sv+s/6T/n/+h/6r/tf+8/8b/2//u/+v/4P/i/+//+f/9/wEABgAFAPz/7f/l/+n/8//7//7/AAAAAAAAAAACAAYABAAAAAgAGgAeABUAEAARAAwACQAXACkALQAwADwAPAArABoADwAFAAAAAwAJAA4AFwAlAC4AKgAgABUABAD3//j/+f/2//j/+//6/wAAAADo/87/w/+9/73/yf/Q/9L/4//7/wAA+P/q/9X/x//H/8//3//2/wAAAgAOABwAEwAAAPb/8//1//j/8//z//z//v/9/wAA+v/h/9j/5v/w/+//8//8/wAABQAKAAkAAQABAAYABgABAAAAAgAFAAgAEQAkADkAQQA5ADIANwA/AEAARwBTAFYAUwBVAFUAUQBNAEoARQA9ADQAMQA2ADcALQAfAA4A//8AAAsADAADAAAACQAVABYABwAAAAYACgAGAAgADwAQAAsA/v/l/9L/yv/E/73/vv/G/87/1f/a/9T/xP+7/8D/wv+9/8L/zP/J/8D/vv/G/9L/1//S/83/xf+7/77/xP+8/7f/wP/J/9H/3v/l/+b/8f8CAAYA+v/w//T//f8EAAgADAAVACQAKwAmACYAMgAyACIAGAAZABMADgAWACEAIgAaAAgA+P/4/wMACAADAAAAAgAEAAIAAAAAAAQAFAAiABsADgAOAAsABgARABsAFgAZACwANwA9AEUAOgAnACgAJQAMAPz/BAAQABoAJgAqACkAJwAdAAcA7//k/+z/+f8AAAUAEgAlADUANwArAB8AFwASABEAEQAPAA0ADgAQABUAGQAbACMAJgAcABQAGQAZABAACwAFAPn/7//t/+n/5P/f/9z/4f/w/wAABQD9//P/8P/v/+//8v/y/+3/8P/7//r/6v/e/9//4v/c/9L/0P/V/9T/zf/M/8z/w/+5/7v/y//U/83/wv+7/7D/of+c/5//pP+x/8T/0P/b/+P/4f/c/9n/0f/J/9H/4P/p//D/9v/2//b/9P/o/9z/3//r//f/AAAMABsAKgA2ADoAMQAkACEAKQAuADAANgA2ADMANgA6ADoAOgAxABwADQANAAwABQD///3/AAAGAAYABQANABYAEQAFAAQADAAWACUAMQAwACwAMAAvACYAIAAdABsAIAArADIALAAfABcAEgAEAPX/6v/g/9//7//+/wAAAAAAAAAAAAD4/+f/4f/o/+f/5P/s//j/AwAMABAAEwAWABgAHwAqAC0AMAA6AEAAPQA7ADcAMgA0AD0APQAtABUABgABAAAA+v/5/wEACgAJAAEAAAAAAP//AwAGAAQABAAHAAMAAAACAAMAAAAAAAAA/P/y/+X/2v/X/9v/4//q//X//f/7//r/AgAAAOr/2v/X/9f/4f/u//D/8P/y/+n/3P/V/9D/0f/X/9b/3v/1//v/6//q//v/AAAAAAYADQANAA0ADgAMAAoACwAUACMAJgAXAA8AGgAfABwAIwAtADAAMAAqABcABgACAAAA+//2//D/6P/o/+X/0f+8/7z/vf+z/7b/y//V/9D/zv/V/+X/9/8AAAgAGQAnACsALQAtACwALQAnAB8AIQAfAA0AAgAGAAUAAAAAAAAAAAAFAAcAAAD2//D/7//1//n/9f/y//L/7v/n/+T/4f/g/+j/9v8AAAAAAAAAAAAAAAAAAAAAAQAGAAsADwAeACgAHQAPAA8AEAAKAAoABwD//wMAGQAlAB4ADAD7/+r/2//X/+D/6v/z/wAABwAAAPn//P/8//r/+v/5//r/BgATABMADQAEAPf/7v/s/+r/6P/s//L/8//y//P/9P/5//7//f///wkAEQAPAAoABAD9//X/7v/i/9X/1f/o//r//v/+/wcADQAHAAAA/P/y/+b/5v/w//r/BAARABsAGgAVABQAFQATAA8ACgAGAAcABQAAAAQAEQAYABEAAwD6//P/6//m/9//z//G/87/0//S/93/7f/z//n/AgAHAA0AEQAZACsANwAvAB0ADgACAAAABAADAAUADwAYABYADwAIAAMA/v/0/+r/4P/V/87/1//v//7//P/8/wEA/f/6//7/9f/p//P///8AAAUACgAKABQAHwAfACIAJgAcABUAIQAvADMAMQAmABIAAgD//wAAAwAHAA4AFgAgADAAQgBEADcAMAAwAC0ALAAsACgAJQAmAB0ADQAIABAAFAAOAAoACgAKAA8AFAANAAYABwAEAAUAFgAdAAcA9f/z/+3/4f/e/9z/2f/h/+X/2//Y/97/3P/b/+X/6f/k/+j/7P/m/+L/6v/v/+P/1P/Q/83/vf+r/6z/vv/N/9H/1P/a/+X/7f/p/+L/5P/o/+3/+P/9//b/+f8EAAwAEwAgACoALAAmABUABQAHABcAGwASABMAHQAcABMADAACAPz/AAAHAAIA9//5/wAA/f/2//X/+P/7/wAAAAABAAgACwADAP//AAAAAAAAAAD6//H/8P/4//r/8//n/93/3P/j/+n/7//6/wQABwAMAA8ADAAKAAoACgAQABsAGwAVABUAFQAQAA0ACgACAAAA///y/+P/4f/Z/8z/1//w//n/9v/5//7/AAD///v//f8AAPz/+/8GAA8AEwAUAAwABAALAA0A/f/u//H//P8GAAwACQADAAUADgAYABwAGQAYAB4AJAAdABAAEgAaABUAFAAeABkACwAMABYAGAAYABgAFQAUABEACAAIAA4ACQD4/+r/6f/1/wMADAAKAAYACQAJAP3/8P/w//f/AAALABQAJAA9AEUALwAYAA0AAgD9/wEAAQD8////BgAGAAsAFgAXAA0ABwACAP3//v/+//X/7P/s/+3/5//f/97/4P/j/+n/5P/M/8H/0v/e/9r/3P/e/9f/3v/3/wAA+v/9/wsAEgAKAPX/1f+9/7X/r/+n/6j/sf+0/7H/tP/E/9P/0f/T/+T/6v/d/9b/2//i//b/BgABAPv/AAAAAAUAHAAmAB8AIQApAB8ADgAKAAsACQAMABMAGgAmADcARABKAFEAVQBPAEQAPwA9ADgANAA6AEEAPQA1ADAAMQAzADAAJwAnACwALAAmAB0ACwD9////AwAHABAAFQAXACMAKwAcAAkAAgD///3//f/9/wMAEgAdACAAIgAeABEAAQD6//n/+f/6//j/5v/U/9P/0P/D/77/v/+9/8T/0v/X/9f/3//s//j/+/8AAAwAEQAHAAAA9v/l/93/4f/l/+X/3v/O/8r/2f/m/+L/4P/j/+X/5P/n/+3/8v/5/wAAAAD9//7/AAAAAAAAAAD8//r/+v/4//L/8f/4/////f/3//j//v/9////BwAGAAAAAAD+//P/7f/r/+3/9//9//X/6//p/+j/6f/r//D/9/8CAA4AFQATABQAHAAgAB4AHAAXABIAEQAOAAsAEAAUAAwA///0/+z/7f/y//f//v8EAAgADQASAA4ACQAKAAwADwARAAkAAgAEAAoAFAAmADYAPQBAAEIAPgAtABUAAwAAAAIABAACAAAABQALAAAA8//4//3/9P/u//D/6//n/+3/7v/o/+v/+f8LABoAHwAdABcAEQASAA0A+v/r//L/+//8/wQAFQAfAB4AEAD+//n/AQADAAMABgACAPn/9v/3//L/6P/e/97/5//s/+v/8v/+/wAA/v/5/+r/2P/X/+n/AAAPABMADgAHAAEA/v/+/wUADwAQAAkACgAcAC4ALQAfABkAIQArACwAHAAEAPz/AwAFAPr/7//m/93/1//Q/8X/xv/H/8H/xv/d/+f/4f/j/+3/8//6/wMABwAKABoALwA2AC8ALgA4AD8APAAzACoAHQAMAAMABgACAPX/7P/o/+T/6P/o/9//3//o/+r/8P/+/wUACgAOAAcA+//x/+v/6//s/+z/9P/8//r/9f/y//j/DwAkAB8AEAAOAA0ABwAJAA8ACwACAAAAAAD+//j/9v/5//f/6P/c/+P/9P/+/wQACgAGAAMABgAFAAEABAAKAA4AEQAJAPf/6P/f/93/6P/5/wAAAAACAAIAAAADAA0ACwAAAAIAFgAeABYAFAASAAYAAQAFAPz/7P/q/+//8//2//b/9v/z/+r/6f/x/+f/1P/b//L/AwATAB4AGwAVABMACwADAAIAAwADAAMABAAHAAMA9f/r/+3/8v/3//r/9f/0//7/BAAAAP//AwAHAAgAFgAqACgAEwAJABEAHgAoACYAHgAjAC4AMAAwACkAEgAAAAIABQAAAPz/8//k/+P/8P/4//v//v/6//X/+f/4/+b/2P/X/9f/3f/n/+L/0f/P/+H/7//o/+D/6v/6//r//P8KAA8A/v/t/+z/7P/s/+r/2//O/9n/6v/k/9X/zv/J/8n/1v/e/9T/0v/p////AQD4//H/+v8KAA8ADQAQABQAFAAVABUADwAHAAMABQAKAAgAAwALABMAEQAWACkAMQAsADQARgBPAEsAPgAyADUAQwBAAC4AJQAoACoAKAAmACYAJAAjACMAHQAYAB4AHAAKAAMADwASAAgA/f/x//H//v8AAPf/7//m/93/5v/y//P//f8NAAsAAwAMABIADQAKAAcAAQD5/+3/5P/l/+P/3P/Y/8//vv+6/8D/sf+Z/5n/rv+6/8H/0P/X/9H/1v/t//3///8DAAcABAADAAkACgACAAAADAAnADkANwArACAAHAAbABQACwAMABIAGgAqADIALAAtADkANwAmABEAAAD0//L/9v8AAA8AGgAeAB4AFQALAAsADgANAA0ADwAZACkALwAlACIALAAzADMAJgAMAPv/8v/g/9f/4v/o/+j/8v/6//T/7v/r//D/AAAQABUAFAASABAADAD//+j/2f/X/9v/4f/m/+X/4f/a/9L/0v/Z/9r/2//k/+z/7P/u//X/9v/y//f/AAD///b/9f/2//H/7f/m/9//5v/y/+7/6f/y//b/7f/j/9n/0v/O/8n/w//A/7//xf/J/8j/yf/P/9T/2P/X/9f/4v/u/+//8v/x/+L/4f/1/wQAGAA5AEIAMAArADEALgAxADgAMAAoADAALwAgACYAQQBLAEYASQBKAEUATQBdAFsAUQBQAE4APwAsACYAKwAtACcAIgAiACQAKgAyADcANgAzADMANAAtACAAEwAGAPz//P/8//H/4f/b/9v/2f/a/9//4f/e/9L/zP/c//L/9//3//7/AwAFAAYAAwD9//7/AQAAAP//BQAKAAUAAgALABUAFgAOAAQAAAAGAAsAAADx/+z/4//P/8P/wf++/8H/z//e/+H/1//M/8//1//S/8//2v/h/97/3//h/+P/6f/l/9r/4v/v/+7/6//x//D/6P/r//v/BgAGAAoAEwAYACEAKgAlACMAMAAwABwAFAAUAA4AEgAZAAwAAgAWACUAEgABAAwAGAAVAAwAAQADAB0AMAAqAB8AGgAVABUAGAAPAAIA/P/x/+j/9f8EAPj/5f/o/+H/wv+v/63/p/+q/7r/vf+t/5v/iP9z/1r/O/8c/w7/Dv8L//7+9f7v/uj+7P4A/xT/HP8U/w7/Hf81/0T/U/9d/1//c/+N/5b/rP/T/+j//f8gADwAXwCTALEAywARAVIBbgGgAesBHgJTAqQC5AITA2ADrQPSA/oDOARkBIMEuwTuBAEFFAUxBTkFPgVRBU0FKgUIBdwEnQRrBCwEwQNfAxIDmQIBAnsB7ABHAKr/Af9E/pf97/wr/G/70Pox+ob53vgz+JD3EPel9jX2zfVu9QT1pPR39F/0NfQa9Cf0PfRb9Jb00/QO9Wb11fVG9sr2ZvcC+Kn4c/lW+j37KPwX/Q/+H/9MAJAB1gIIBDIFhgYKCIMJzAoADE0Nxw5bENgRFhMSFPQU7RXvFsIXWRi+GOcY8Bj2GL0YFhhAF3AWlBWMFCQTPBEeDyENMwsrCe0GWgSbAQv/mvz++Un3qfQc8qzvY+0c67noYuZf5NDihuFE4Pzevd243DTcDtzo29zbHdyW3E/dPd4K3+XfOOHO4pTktua/6IXqnuz57ljxI/T89mH5LPyg/8oCvAWyCEILMg4UEpQVahiJG1cehyAtI+cl7icGKiQsfi2vLucvOTDnL7Qvgy9EL7wuQy0EK6QoRSbnI1QhTR45Gw8YPRQ+EHwMUQgKBGUAtfzT+Gr1lvHd7OToB+YN40Dg+d1f297YX9fm1f7TA9ME09fS39K603nU5tTv1VbX2th627re9uDJ4lbl5udh6n7thfAo82X2qvne++n9XwB+ApkEWgfsCcQLVQ10Dg0PGRDNESYT5xOfFDwVfRWYFZIVVxVmFfQVPxbuFXAVyhTyE4QTfBM0E9YSfRKHEVcQyA84DzMOdw3oDO0L9QrsCTAIfAaLBbAEngOjAmEBvf9T/i79EvxC+7D64fni+Bj4evfK9hz2tfWj9b/15fXO9U712vT69Hv1CvaW9tf2tfa69iH3h/ff91n4vvj++GD5pPlf+Qz5OfmV+ez5Pvrz+Qn5g/hu+Cj4/vf091j3gvYZ9rr1C/Vp9Bb06vPM8+Lz1fM38yXzevTY9dP2PfhA+R36nvx//60B+wRlCEIKBw3UEBUTjhWOGYQc2h4jIkMkzSQPJtonESkTKsAqaioyKdAnfya1JLMiPiFPHzAcJhn8Fc4RGg5uC0gI6gThAfP9TfmJ9a7y7+8w7ZLq+ucd5V7iROAs3kbc+9s63DbbO9rw2TbZXdk725LcT93h3vTfVeAI4ljkA+Ys6ITqsOu/7HHune+T8J7y2/T59aH2L/f39gf3jPjt+WD6NPuW+5b6TPoX+4D70vyV/1UB2gF8Ai0DzwQ8CAEMdg/WEjQV8RZiGfsbtx6rIqomMSkPK3EsTyyGK7grtyysLRsu6yySKcAl6yJKIIkdfxtCGbQVzxGjDVAInwP7AH3+k/t4+er2vPKQ7kzr9ehB6CHo1uY05fTjY+I14Q/hMOFB4qzkAuZ65Y7l6+Zf6Evq5ewR7+HwqPJr857zLPWr9zP5o/nU+TD62/ot+z/63fic+Pv4NfiM9oH1xvSY84fyjPGk8MrwgvAy7nDtqvAp9FL1s/Qu82L0Hfo5/58BSgWhCRYM4w5vEl8VSBrMIGQkjyaSKgctLiwyLIgutDFTNZQ21jJqLkUt6St8KEomKyWgImgfGhtFFA8OsAp0B0IEGwMpAXL7DfQg7oTrDeww7I7pGOaY4/nhrOCn3hDdb9594BTg3t8b4Wzg7N4K4Prh/OPm5wLqfudk5pnpT+s56urqLO2k7iHwKfCv7CXq2Ot27S/tDO5+7hPsNurJ6ofrOuzJ7ALsD+378tj4n/jr9Oj0JvtJBL8LLA8TEJASkhciHAsgTSWwKtUutjK0NeA2Tzf7Nlk2lTgsPZo+6Tp2NRgxdy7tLIwqrSYdI/0fBhsWFA4NEAdXA/gB7P82+1H1ie926jfn0OUa5bXjr+Co3afcD9zP2vja3Nub29bcPuAD4QffiN+X4gblk+dO6qnqNuoo7CXuf+1P7cDv5fH+8RzxRu927e3t+u5A7hru+u557cPqQ+oE6wfsD+0n7PTrgPGe+HT5pPWl9Dj6PgTHDEIQvxFKFRUa+R3SIWUnJy7tMw83BTg3Ofk6bTpJOMM5yj7AQIE8KjXmLt0rlyqfJwIjaB8mHHQWKA7ABSUA5f0w/Bz5ZvWG8KrpVOMu4CzgvuGf4djdztny2GvZM9lU2ZHaedyF3uvfKuAn4L7hL+UP6KbpNOwQ72rvt+5878TwOPKW9Pb13fQJ877xgvDJ747wb/H57zrt7utQ6xnq0emM6gDrneuV62LqOezW8if4vfem9Xn4EQE2CuUPuhKlFHQYiR9yJdQnISxJM3A3Rjl4PL09pjsIO8U8fj6FQEFArjmlMcEuhy1IKakkViH9HIMXhhGuCTkBIvzC+kP5SvWQ7wzpMeNM4PTfod+l3tHcddpQ2tXbudra2Mfa+t0B4B7jjeVe5NDjSucK69js8+5k8Szy6/EU8jXylfJ69Dr2CPUk8i3wEu+67krvX+5g6/vpfera6MnlROUp5k3mJ+ev59Llp+aN7g/27vRe8NvyOP0nCFUPexNpFVkXwx0AJ6ssxTBMOAQ+eD75QOxFD0UCQdpBUUVsRxFICkMGOOYw9i+ELG4mZyMnH8EVdA2+B5z/OPhY9d7ws+nc5ozlY9421qjTttOD07vTJdP50TTSetIJ0mPTmdYm2hLe2OCt4dLjaefJ6K3p2u298v30CvU988PxyfTC+fX5EPY580nyJfKh8nDyXfB27YLrjuox6S7ohem86kzpxuj86cDooehI8DP64vzt+fD5XgFkDOwUMRtYIZMlMCmnL7E1wTlOQcdJ6kqOSWpNgU8tSrRFwkZESKdHe0OOOXkv1Sr7JXUdRBfSEz4NEwRK+yvyjuoB51TjRtwP13jW/9N9zI/GQsbex/LIPsoOy5zLzc2Q0IHSTtYJ3eTiEuY66fDt+/Lb9iv5fvv8/0QFUQcUBYIBTAAKA5cGWwWI/7z6iPiK9hv1yPT88sfui+rb52fm2uUW5v7l7ORN5aDnLebt4JHjzPFv/e77WvUa9/ECjQ+oFtMbWCJCKMktlzMwN2o7i0RcS0BKo0p0UGlQxEebQa9C9EVLRdk8uDAgKQAkVBsnE4gOJAgqAIn6GvMS6LffHtoY1JPSGtbb1LzMz8XQwwPG0MruzR7PRNNt2FrZEdok38Hk0ulx8ST4afqS/Hf/O/+y/y4FkgluCNYFXQNxAPj/gQCH/Nv1m/Hl7pzs7esd6hvleOBy3W3arNld2xTbEdr026rdet183RLcitxo6Sj+3gbl/tH3bv81EFketChgMy07kT3KPwhD50XETvVbE191Wv5cPl/6U35HD0byR2dId0Z4OnspYCDjF3oIBADAAZz9K/Kj6DjextLszSrLrMTzw+7KY8ttw6m+tb51wFPG480K04zZzuAH4nPhYefB7531dPwsBLgIVwvsDMsKDQhhCp4OCg5ICQ8FwQJ8ABL8/PQX7YXnKuYq517maeLz3BfXWtIm0VTTpNbk2FrY1tYo2DXbIt1w3pXeFeBk7SsFVBH1B5n9LwXyGLYsrzxRRnlIV0mqTXZSsldkYVxqL2pPZgtndGUcWtVMv0VIQ6VCfz4oMJcd6RARBov4lu8o7IrlmtvQ01fMo8LCut63rrf8uNu9OcMUwgW+e8FiyvfP7NT33jDqWPKr+Nv8QP4jAUYJPxN0Gd4bhhy2GRAUjhGMErAQTwvPBfr+bfff8x3xjucW29DUH9SE1MfUmtF/yYnDtMRnyKjKMc2u0NnSB9T31xPeW+EX5Nfr7/K/9GD8kQ+CH58fqRiVHEYvZ0IHTDFSx1gAXPRci13DXVdjJ22rbRZkK13WWB1P80EnNlAucSyhKEMYfgO+94LufN/21MTUHtMAyyrDkbsPs/Cwj7W3uKW7k8MPy4XMBM1s0qrbTOXZ7nD6dwd+EFQScxFAFJ4bGCRrKjMs6ShrI08dixViD/cNnApoANf1Tu3a4fLWtdIX0NDJfcM7vxG7pLgrumO88Lyav4XFYMlxyi7OUNVZ3PThiea87LL1dPwkALQEvwWFBIcS8y7kPas1USoSLHQ6m0x+WVlfgmDxXvddSFyDV0RYJmCHXvlR8EuvSbQ7KyfqGBoSThDdDWcCX/Gm5Anb1c9ux0PGw8g9ysbIKsQXwXTE48jMyM7MLNsM6Zbu7PHZ9vr7gQJ1CeMOuxZgImUqdymrIwQgpB+pHjAdpx6oH20Z8gy6/4b0zexU6Pvigtq40k3Ng8V9um6yga8Ir/ywobTatm64S7tVvjbCHskC0qHaleJ46g/y7Pfn+y3/eQLcBwsQLBdcGzocUhbKD+IYNzAAP+o4HCulKLszmEH1TLBUc1T3TgxMtEoOShZOi1BySFE8pzYENRst4xvOCw0GkQQu/3/3fu/+5X/c/dUk1BLWrdhc2pPaOtl82sTgTua05z7qkPED+t/+UwEFBqMLMg2LDDMOThHhE0YVbRQcEtYPVwzoBXr+mPpZ+i743/LY7ATk79l71CLQDspfyQzLM8WLvRa71bk3u/fASsOhwvrGQc6D1Fnb1ODr40zpMvE8+P3/2Ai9DOUJrQebCvsP8hW+GWIXARQ8FDcQPwoBFF0qNDQyKj4e2B/uK/E3rUGLSIdIUUdsSUpF5j5DRQZMSkMoOj46sTaVLNggXRNPC5YMKQufAtz7nfZp7cbkxuEU4h/kM+cD5wHk8uTy6CrpvedS6hnvtPOM+C77uvqh+tj6Jfma+DT88/9j/8/7s/dZ89vvpe9a8lTzqO/P65PrSuom5rzkkOTL4AvfQuLB4qXfbt212EHRp88u1VXam9ub2ifZHNjZ12XZQd6G5kvvT/R99aD2g/gL+uv7t/0vAJEFRAnOBrIDSAJw/5T/awLB/d33pgLLGUooqCRLGGAVAiIVNPdGSVmQYPFdOF1zWn1VCl2SaD9kmFq4WI5UBUntOCokExWEEvgOYAU4/9r3iufF1xvPU8kcyTnQPdMpzrHM2dCg0L3Nw9DG16Pe0+Vf7D3yhPcg+Gz0N/Iw9Jv89wmMEBALVAMAAMX+y/1b/TT+gf7r+pP2mfT671vocuK+2xLWzNlE4CLdodQCzv3IFcjpy1XPzNO93BXjvOCM3NreyeWN7B/07vzBAsIEhwTVAN783P12AD0BAwLBAVIAlf4r+rj4B/0C+ADtWfgtGGkvrTJqJnEbVCbgPNpN8GCscHxxBHMJcppfTlpIbMpphVYOV19XCkT8MekdRgEv9rP5ffDr5DHjQtkfxvC5IrP5sNO6t8XexBrEpczz0ffOQNAd2hXmC/JI+63+SgO4C2sNegmjDJQUlxgCGp4XRhABDdwMQwQ2+fH2yPTB6/3j3d6f2BLV6dHJyKLBjMP1xpjIW8vNzMHOjdNh08vQNdmf5w7wavR39LHv8PD9+Jf9sgBWBgcJ9gZGAx8BVALUApoBbQM1BTIFUwiKCI8D9gSsBnT/NAQ+H0w3Djz8Nbgy1zpqScpW9GQtb+xwWnPQca9iLVmcXf9W1UMEO6M4tSwHGW0Cyevz3NrXfNQVzjPJIMgXwyi4irJ/tgm+asbuzB/Sm92s6b3qK+zS+NQD6wazCTEOthfwJOElFRq1E3wUIxXIFZsR+wjjBFz9MuuO30Pfy9nRz3rKA8V0wAzC6b/LttO1+7/zx0TKEM2b0jHaMOD34HDirOvc9+T/yAJjAWn/ZQCVAQwC2AR7BxwGZwLa/x8BzgPJAdP8jPo3+yH+yv+K/SX/KgM7/db5hAw1Jq8ywDUUNpM4tkN/VL1kxG/ocQpzQ3ahbuJhrmBEXRVLhzt2M94lXhXZBWjwJ9qPzi3KlsQBv129jry1uC62S7nkvyTJL9OS2TDhru5G+W7+VwXUClcN3RViIIghLx7VHuUglB65FnUPpwvEA2P5nvQt7Sjg7NoM1+vI8MB6xK/A/riSu+K/M8Dew4nJQc862cXjdenu7d/1DwCFBrsGWQfaC/4OpA9PD1QL0AWIA8gBfP4p/AD5n/Lj7G3r6uwg7mztjey57brvsvDT8gH5uP5+/QT97QvCJpA7A0NzRJFItFGwXSxrB3g9f/9/4XtvcKxhbFkcUwhEjTHZI+gVGAPs7iDchcvRvhm2ebD4rtGxG7YOuT+6F7x+w2/Q29sg5UnyqgDACioTchovH44lFyrOI2saHRuhIT0jPx2wEdsDKPYk6kHivt0Y2gzXjtCCxBe9676Fv8e8Hb+hxTbMX9SJ2y7fMeUT78X1vPhX/jYHoQ7wEVcRBw8QDmMO2wxWCLMC3/1m+mP39PMi8DjrmeXV4qvjH+Q+45njg+Ur6PXrNfHe9hT7Ef9zBC4GZwUyEw0zy0wOU2xTvFdYXatkym69d3B8A3yJdVFpJ1o3TP8+mSzRFs0HlP4D8ObbHspvu0OvMalDqXitlrUCvu7DmsrI0m/buucY9Vr+zgoEHpEqiyyeL7M0bzS9LxgpOCEIG8EVkQ46Bmj7oeyo3aDPxcLIvUPAPb9dugm67bs6u/W8+cOczKHW9uFW6mvwOvnVAv0HKAo5DdUQqBNAFooYzRjhFfAQ0wugBjgBaPxD98Hwo+sL6tfoX+WO4bXewNsN2nXcUeHx5J7noepm7RvxzfaT/DMCGwcvBzIHvRUvMzxM61O/UZVSdFiAXyhoxXGOdi103mqpWU1HlDwdM7AgOwp5+WXtPd9lzinA6bX8reqqUa1vspG8ocpC1LvaneWU82QBDg37E6wcmSsSNgU57zzcPFwxJSPAGf0SnAwjBFr48Opf3FzP7cU9uxKxva9FspWxILX5vp7Fbsmx0TLdxOi29XwD3A4vF3AeriTVJ8Un+yXfIu0eIhujF3ITfAyGAo/4fe8d5jneDdl/1MrQJNAK0qnUNden2Ubcjd925G/qeO9p9B76xP7nA40KwA2bDQUOuguuCtsZrjYeTDZR402jSmNLMVL5XVtnGGgEZHRdck8VP8M1SyuVFlQBOvNm5u3YUM+vyDHB1bkotum2vbvQxS/Tst6j6I70fwAVClMTEhzuIrgpsC/OMeMx8jCjKu8eMRO6CFn+QPWE7Yjlr92d1uXOjsZHwWHBHMQ9x4/MENQb27/h6OjM75z2kv2wA/QIMA1nEB8UXBaqE70OnwnMAaH6//iu+BP2NfPI7lboOuS54TjduNk52obc9N9b5aPqIu6w8NnxyfAa8GzygfZh+tz8b/2//g8B1/73+U36ePuH+aoCeRwPNFo9C0CSQqlF2kxMWUxk82fYZ0NnwV7GTHQ+zDRiIrELQ/6E8zPkN9n30onIrb5UvJa7/rq5wuHRKt+i6VX29AP6DpsY5yDBJmQt4zSrOHQ5JjezLponjSZJHuwJgfaO6TLhv93d2UjRRMdyvKuykq91shK6YcV1y8/MUNWF4dToX/E2/DwCZwdpD3IUEBdhG4IcJRaRDSoJhggYCCQHBAXM/rr1cu446WblWeQ/44vfJd674VjlYubR5V3jguE3467lCOhJ7UXyFfQ690P6VPgc+Dn9iv6v/usM7ybCOm9C10VUSiZQgVhTYp1n4GctaOJjlVRaRNU7ZzD4G/4IQ/vp7O7f1NeTzxfGO8HQvwm+y8EQzyXe/Omk9SIBNwu9Fkkitig8LOswGTPeMOUvnzAzK4IdkA0j/4ryPehu3qDSLsdov5C57bO7sUu0BLeEuHa9gMY20Enb7edL8kb7LQa2DzYV+BlbHrcf4B7SHLcYsRNbDzsLkAY4AYf7QvZC8aHr/uUE4t7fdt5Q3VTczNth3YPhmeUD6Erpg+lF6Snqg+2p8yf5rvqi+3T9/Pyd/l8EywRzA28PDiPqL7s4+UEqSRxQdFjuX/1k72WtY3pfUVZsTLBHBz1RJlQS0wTU8wHktds10/vI28Mbwu+/m8GDyqbVvN3M5vb1lAVrD0wXByAVJmkpUS3nMIcwdStOJBMcbBFqBn39JfLk4TrTI8lUwDi7l7yWvSG6q7i/uwO/b8QS0Gvc5+TT7m370gQ4DDMVyBrrGrMboh2DHM0ZQBe8EvAMWAgDBG7+YviK8h7sNuW031ncOtqj2dTaPtye3aXf/+Ap4ULiQOUH6SXt/vGf9o75n/uz/bD+nv95AHv8LfjrAtIcfDQcQU1GhUh+TK9Ugl6tZ5duJnBGap5dA1AoSAdB4jDtGsgGbvOC4CnSHMj6v/K6frimtbK1tL6ZzLbXmOK98Ar/RQ5PH0MrEjB5MhwzeTOLNtw3VjJDJpYVuAUv+hjvZuNH2OzKYr74ty60/LICuE28Grw8v8TGGc8+2+Dp3fTJ/dMHQhDJFaYa1R4AIPAdhxotFgMR9wy6CcoEtv7w+NnyFu3f6Erl8eG735Xe6t2X3crd9d4l4TLj1OMM5N7lIOg26VHrUe8D80n20Pig+aj7dv7l/ID8bAn7IQU5TEbzSwpRglhDYQ9rDHK8cZttMWe2W+VRtE0ZQxsteBX6/wjsI93O0RPGc7zhtqyztrMeuWrDmc9t2tHkCPIiAVAPnxzxKEEy5jbWNjY1CTYeN8cxQCQSE1IDCved7JLhHNZKy+fA8Lexsu2xn7SxuFW828CHyDTSGNyn5lnxg/odAlcIBg10EegVFhjcFqYTtA8HC9UFeAF9/l77jffl8yHwZuw16b3kJt/f2yTbwduM3s7hrePC5RvnS+bC5qPpAOxs7T3v2vK9+D7+AgKaA24A6v7/C7ck6DpiSURR5FV7XeRn5m8rdIdzwGw/YjVWCExcRr49jivMFf8AwevI2ZvNPMPCuj6397bfuH+/fMq41a/eLecV8gL/egyKGl8niTAPN7s6ITmQNRI0GC9kIZIQ1QIg+ELwJ+oB4ZbTk8bEvJm1crL5tNy56rxiwFfI+tI73Ubnvu8x9QH7swKHCHgM0hF7FhcXGBWJEbwLpwXkACv8jveg9CXzrvH27tjqiuZC4gneANzB3Pbe0OJ75v3mgOfH6lLtyu4d8ZvxCPGC87X3Rf2ZBMYGTQNLBvQUhSnvPGNIMUx3UO5X5WAzasduIGyqZOVWJUacPKw3ki32HmcNjPjf5sTa9s6ExIy/Vb5Fv9zD2MyQ2Gfj6uvD82X75wM0Dx0aeSFhKIcvvjI8Mhcx0y0kJXIXGgiG+i7xWOwJ6PTfA9YPzi/H4MD6vQu+Ub63vy7Evss91g7i9usC85r4u/1vAhoGlwjnCmoNOg91D7wNmwqbBj8BVfu89obzAvKE8q3xku2g6U3nU+XA5DzldeTN403ljeco6XPqduwq7/vvRu4+7VnuovEt9xX7wPu5AFgPNiMLNuRDtkukUOxV6Fz7ZdVt2W8Ga4tf+U9YQ2I7aDEeIlEQA/6d7J/eQ9SZy6LEAcFAwJzBYsdU0gzeX+eV7wb45ADwCboR/xe2HvslESuxLPUsfS1UK4AidhRXBi37fvMP7o3oseJW3QDXQs9oyefGM8WlwhPB/8OozFXY4ONm7cHzPPig+0b8EP3/ASUHfAlSCxcL8AjjCPsGUQAS+9P2wvCV7ozvSu6B7mLvZevb55rnFOW/4rXjleN+407m7Oi86zDwTPLZ8fvylPVd92n4mPwpCo4g5DVTQzdL5VH2WJlgymY9aHZlV2DPViJKvkGBPT410ybXFJgAJ+7C4JjVgsuNxdHDM8Rkxx7PT9ru5Cfsl/H995P/igdRDwsWaxuRHwMiGCNBJLwkoiG+Gs8S8QqXAon6c/NT7BblN9/o2j/XQNSk0VjOOstUypTLfM7M01ba2t8a5Wfrt/Eu90L7r/xP/Hj8I/1N/Wj97P0s/t/8pflI9jX0mvJA8QPxU/G18QXzefQZ9H/yQ/HD78ntce367gvwRfAu8UHzd/aT+aX5ZvdN+ugIvB58L1Q3Zz4JSdlTDV62ZvJoeWRbXJ9Qw0SgPuQ63DFII2sTSgRd9nfqnuBQ12zOacigxh3J59C73OvnLPBV99n+jQU+CgwOMBLHFUsYaRoCHOAc3xyWGpkVXQ9FCDMAj/hQ8gXtKuiD42bfqty92svX/tOF0QTRq9G904PXXNwp4vHnX+us7H7ubfFD9Ev22fZR9TDy7u5a7STu6+/L8DzwBe9W7h/vfvG49PX3Ovpf+jX5TPnT+gb8Mfwr+pL1nvFy8EHxHfQi97n2k/aw/i0PmCCdLOoyADhYPy1JNFTpXC1gdV6gV3tM5EP+QGU89TDgIfwRSgJ/9aXsZ+Wa3knZ8NTV0GnQUdYt3tLjTukl8B/3Qv/5CP8QoxUoGHkYUBZkFEgV4xYuFRMQkQo3BjMDAAHp/Af1zusj5Eje/tpJ29/cxNyw2+PboN0y4CLjWuVX5tjnK+vK7lvxQPPU8/PxY+4q6jHmo+SO5fLlF+Xr5CXm0OjY7BjxEfUH+T/8Wf55ALcDfwdgCREIMwW4AXr9GPpv+IP3M/cm9jTzGfSF/2sRPR/xJPUniS5yOGJC0UqbUDJTxVLITa5F/UABQMg6fC6sH7QROQUl+v7vTOcr4QvdUNmG1rXXX90T49DlEuiI7MDyt/kOAU8IsA5IE+kVoxfdGWochRwDGP0Q0gokBoQCSv/S+tz01+766GjjCOCC38XfNN9w3snez+Az5OTnqOo37APt9ezR63jq0ek26ZXnPOUL4xLhbt+v3rzeit+t4a/k2uci7N7xk/cR/NT+SwBGAtkEHwb6BR8FoQPdAoYDPQTfBFIFggNkAC8BHAnXFVQhxScZLIAyhjpNQndICkvdSQNGnj9yOYo3YjeMMicobxxjEiMKUQJT+aHvN+ju4wvg0twZ3rvikeUf5lTnm+pi8Av3I/vg/O//UQWSCioOlhGjFSMXLRQFEAcNewoDCLUDtvvH8yrvEOtD5jHjQOFb3kvbsdlJ2v7cOuDD4SDhmOAh4hHktuTE5evnD+m66AfoM+fs5uHnLemN6iztm/Db8rTzwfTT9kr5SPu+/Df+cv8SADgBDgNDBGUFvAZhBg8FnwTPA6UDEQjNEIgaXSK7JiAqIy94NF46tkBmQ8tCJEK6P288xzvhOSEzuyoUIgoZLRGZCWwBGfqY8xPuMuoW57TlMubG5OzhGOLi5LnoJO5b81f32ftKACADiQXJCO0LkAwdCt0H5ActCGIHjgX2ASf94Pca8aPpIeRA4MLbw9ay01bUmNfQ2r7cv92F3pHfieBu4cjj2OdY6x3tgu4R8fn0sviE+m36DfkW9/L1tfWR9X72CfjR9w331/f1+HL69/wn/uf9mP4bAM4CIQcPCksLQg53EzsaHyF9JOMlAyrpLncyGDduO7k8DzxVORc1OjMoM1kwciq/I1kdVxcoEeYKLAVp/y35nfKH7Ivp3+my6S/oi+cA6IDpYevP60Xt2vJa+Yr9sP8+APIBNwaUCMcH6gajBDcAe/zF+Hz1UPU89MHuA+kh5JDe4Nq02OnVkNXx10PZFtuJ31Xkx+h+7KLtTe7y8Jjzn/X996n5Tfsd/uT/DgA2AOL+rPtN+R340/cG+V75BvhQ+Kv6Uf0WAKsB2gEGA5cElAXfB9EKGw15ELkUoxjrHH8g/yLzJrIrES+jMYkyAjF3LyAu8yu8Kk4qDSglJMsfRRsvFxkTNg4kCfoDQP7D+Lv0EPNL86vyQPC57k/vl/CV8cDxw/Gk84X22vd4+LP5gvpz+kL5xfZc9XD1yPOl8Ibu0uxm62Tqe+ej49vhLuB13dzcSt6s35jhVOPy49XlRemp643tWPDZ8p70Q/Z69wX5pfsd/Vj8+/vx/Ob9R/+DAK3/hv6//h7+kf1UAAUEsAWYBtMGjQb/B9oJVwr4C58OoA9xEO8RnRLFFAYZnxp9GckZIBvmHJwgrSP/I/gj7yKcH1YeASAcIOketB2IGrwXpBd0FqMTJhFnDHkGLwMAAIH85/uA+jP20vNV8xTz3fTC9dXzQvP08qfwxfBQ82b0E/V19Ozwye7I7lPt4ev86vnnv+RV44Hi/uJh5EHk4uNa5HfkzuUF6WPr3ezi7uvwJ/N99Qr33fiC+lD56vbL9hv4OPlv+pn7W/xg/F77SPuQ/c3/BAHIAxUHTAdxBnkIJAz0DscPsg1zC9MLewxCDo0TzxUAEr4Pmw/FDd4N9g4kDboM6AyzCcoKjhEIFNgTMhUoExIRRRSKFu0WaRn8GEoVWBX/FmcW/xWuEwYN6AYlA1z/T/1O/a77Zfn/+A/4kPbe9wX5R/Zt83HyKfGi8TH0mPQj9JL0BPLL7v3v0PDt7YDrN+mE5onnR+pl60PuCfGe7s3r1uyf7p7xFfVQ8xfwwPJ79nr3pPqD/nD+AP0c+0/4oPkM/oz+nf0x/3v/zP/DAz8GzwUxBzIHDQPRAEYCFwWACUwLqQgFCpoPBBCPDYEOoA7oC/QJ8AjwCRkN+QzUCmsMrA3/CwANtg4qDLsJRAolC5ILuApUCtENwg9wDM0LAQ/WDhgMXwn4BhwITQksBWoCQASUBBwEWgPo/pj8RP4q+x/2lfY791j1S/Tj8j3zk/bU9NvuZO4A8fPwYPDt7lrtxPAx9RT0HvLR8y72IvYf8jDuzfH39pfz1u+G85z25vYt+FX3HPcf+oj39PKf9kL5FvjN/GD+ffmf/fMDNwGyAfADEQAaAjsF3P7rAXoOhw3UCJ8LdgluCbgRahC5CdELBAufBRUH7Qj+CNYM1AqmAlwCIwdbCRQLXQnvBGgFRwcdB4EKBQ8tD/8MHgoeCRMLKwopCEkJGAb5AKIDUgS7/uH/GgOn/yn+Zvzu9iz7qgJv/Xv4hvvx+yT+5AGk/Pj6hgLJ/7D3wPr3/Ij5TPwx/nr5o/hk+IT0NPmpAYf9evZQ+Mn4ZvYw+cX6Hvrt/rf++vQg9P/6Hfvf/FIAF/iw8l764vuF+f//1P/V+NH7JPwn9tD97wXb/jf9swB6+1v/jQnqArz+swfBA5L8egNgA3UArQnPBkn7IQHdA8/8ygMSB0X97gDkA435FgCADDsGXAZMDBsDIgPTDfoGLwNXDvwJB/8CA8oEMQWnDbQInfvx/0YElPxs/qwDsv1J/Pb9mfah+QcH6AKj+fj9GPx99qb/agOF/DYCeQWw+OH2p/84AKEDXgUF+Ljzdf4R/gf5IP3u/a78df6c+CP0q/2bBJ4AUv5I/j/8G/5zA/UEegRABicFQQHFA8kGMQEpADcGVwMz/zQCHP/E/W4FXwEF+7oD6AF3+WEF3QcX+LH+jQlx/8QCdglo94n3ygzpAyP2BgIUAqf6BQT+/cHvJQDxCX/2vfYJBnL/If0jB9/9JvdEB70IBvtb/gEDFf62A5IHmv6G/1AE9/zg/IcDeP78+03/mflR+sQDhf/7+Yr9Tfqy/LoGkfw98+wANAO6/BAFS/8Y87QD9gqD+jP+UgLH9eABQA3i9+f47wxt/6L3rAmcBKT85ApDBH73uQgYDIT6YAJ7DV0CjwEeCHAA1P8rCKgD4f1fASIDjwMiAhD7//ppAxAFyQBZ/Wv7xv9rBHf/C/29Ap8Bff2SAZ8BkfvO/hkDd/3i/PgAVPtt+vQCO/0E9dj+3wB0+Eb/df7h7l751Qnq++n19wCF+Rj2xgSYAt37HATU/jX1dAHyBez4OPkR/+n5b/pW/wX66vhsAa//hPnk/rD/iPiV/vQFdv8W/5kDZP7+/ggE1AAsBBEGk/sAAbQJxvoV/LwOXQV8/WgI9f26+YIRkQ2K+mwGjwoU/ioHAwwz/7wDnQmq/p0BrAuxA5D/BQfEA2P+fARVBO77WQB3ByL9L/ezAu0Dl/3DBBQCRvP++ysJw/73+lUC//zU+yMD3/7b/cIF6wHq+8H9jPuk+zEBmwAg//X9OPgg+u0Awf9y/+z+U/eJ+CkBs/+H/Ez/aQD//5X9m/rW/dMA7P6J/Dn43Pjh/8f8cfhkAF8BLfyy/tr53PUCBckKlP1/+AX6bv0bBzYGXf7hAa0CuP3EAWkE1AG0A78DYALEAqL/NAJFBzECZQZWD3MAl/jxCSUK+wHGCxQHJPtMByIJJ/5vC+MPJvzW/tsIxf4bAuMK7f24+94FWP6a/FAHqADw+Gf+DPwm/KsFgf/r9cH9AgD6+Lz9rQE/+R/4rv99/DT0PvgSANn9BvoC+/f5g/g9+of9gwN1Aqv2/vbHAPj7n/pMBgsBMfbm/XQAmvvxAJ3/ZPsdA/H99/JQ/pQDGvqh/zgCefcR+67/dPmf/q4BS/m6/jAF9/zO/IIC/AJHBx4F1fxqAPsCbwMTDW4GOvkFCPkNb/x+AUoKS/8zBtMLUPfG/K4RQAN2+iUJKwTa/QcGtf83/akIWwOC/gcGtP5B+6EINgdO/w0BWgBHBPkDWfhcAzcNXPef/CYQUvam8tURc/8X8IcK6Pp66xoOLAM86XcLUQeG41MDZQ4i6Xf+tg3J5zj6xRTL67PuwxTp+dPuhw2s+f3q0wwQBr7wIwaOAkHwCgrIDZfuD/waEWH5x/WADq0Cf+8pAzkMpPg2/osN3vm78uIMRwes8iUFsQl589wD6xIQ+Fn8aRQbAPb6ohTEAjfxyA83EBj2NAZjDs325QIdFMD4sPQCEjMHO/LtA50H1/VvAvAOXfsR980FIAGT/KQFRwJY/jAHpQFs9WAAWAzhAcn5EAK8Aw35rfuNCE0AevSSAWoCHe+g+KgFVvQk+vYLVvJp660K7/vr6S0OwAix4E38txAd62P3XBfX9MDq1Qy2+//tGxA8BTbqiQenCq7pkv0zEXH1MPqHDaXyGfCZEUsCt+0ZDYQLIOZd/lcawvLY8BkdHwG441UWHBcj5fwCvRrW7oL+wB2T8KHxhR8v/2DtPBj1BULrThCpC67tKwhPDEHzuwgEDtLvPwASEy33ufUiDRcEnvq3Amb+g/t0BfYGhQDS+/X7RQMCBRL/Tf+pAIsC2QcH/jr1eQhPDgb4HfkLBnL9uf4IBgn4ZvhBCDP+iPNH/Az8n/3QBc/4avDMAHgD0ftpAdD+0Pr7BXQAGfQaBZMM9Pi5+7UHjfrI+XUJXAIZ+3IE9f8B+vkBP/8E/l8Hh/yE9X4JGwYZ8+j/ngU/+cwILw287pDy3AzoBcYB+wZn9dz4MxHUAeb0Hgx4Bmz2EgwMB5/qrwQKGxX7Jvb3CKj5U/z0Esr8KfCfDawFPfAFCRsLH+9r/zEOTfZl/OMMmfWT9LUPwQOt8kwBdQEF+Y8FIwa1+CL8wv/f+0QEmAgg+yb2Mv+e/ub47gEJB7b1kvITCMwC0e6r/5cLwPYN/HILH/S38MUOqAYU9qYHuAG+74wE/Aia9sQIxgqi6dj76xN78PXzHRvP/BDmAg2hBNfpDg00EkTuJf8iDJ3wbwHfGYv75vQ/D/gCqPW3CAwJ2P6CCagF/PJn/cQP8AVF/EAE+QGr+YgChQfH/SoC8gsPAOb3yAL9Ayv/ogbtBMH4U//fCIf8t/e7B14I/Pkb/DkBLfzuAtUHPvlg++oI2vj28XQLUQoH+LIAGP1+8FUIdg6M8Ef61A7j9ivzlArA/FjyegkeBbfxD/1dAtL4UwIzBjX3gfl3A3b7+/nWBkAFnvnX/N0CPPn+9g4JYQqj9vf3rwBh9ykCVxTH+jDsJglKBSTxRwlAC/btCwH5D23xlvqVEEn1u/kyF9v4CesrD74CXu+KEGEL6+oMARENxPVfACoMWf0YBF0FafBc/nIUVgUu/E4AhPr9AJYJhv8B/qQD5/8gAaH+r/ewBPwKEvu3/TsIXf2m+lsEcASrBi4FePjA/CMIVQEt/yQFlgBK/q7+z/r0ARUHj/01/roAGvZh/MkKEQDT91ABJP+J+eIBOwSE/YD+RACk+rX7sgTdAdL7wASMAu/z3AA8DOv5vf74ClD0gvoUErz0z/LBGl7+iuZWEgoCQeHgFhAX7NqR/Vgb4ugM+cAeQvHR7w4dlPq/5d4WjQ3K6IIGbRFZ8Rv9sw9h+Ez5PRL7Aj7xAwZzBzTyuAXdFmjxiOuCFeYGTerLDY0OCeYFBAEX/ORH9l0hq/GO538bpv175JcXkgbz3+kRzxQv4ikE2hfL58n/viH/7mbufRvT+lLrJxavABfm2hASCh/jZAZ5Etrm5vrmFSPw2PQyE/Dxx+0QFm7+ausiEssC5eJUC7oSHeqc/tgQZO7C+f8UbPff8mYPDP7G8UEL5wRB85ECZgSZ+XIGiAfC9HP5cghmBOv+8wIyA4v9Hv2PA+sEagJiA+z84/jRCOsJ8fUTADMPPfmL+CYRCQDE8uMOLAg68CEHHgte8aEE/A9m8NT6uA9A89r4bBaJ9wPsWREEAsftZA88CC7sQggCDYbyewVKCULxwgnqEUrulP7xEKTu9PkCGXT6dvGLCKX1L/eGFa39o+0PCtX+tvKjDoEAB+8lEswEwOBNDI0a6ua++t8aAe428u0b2PMs6LcdVv+V2zEX9hAK1wsIJR+P3c36ayci40royyzF9MLbLStAB/zNOhxkHWnTbwziJsjW4fhdK6XiPu7cMNrwvd2sJsn889aFIl4RT9XWD+gWNNdrBWsk1+IF99cjrOtN6hEg/vnv5+cbOwWG5N0PFAvx5k4I1RKY8N4BuQ6b7+v6xxOS/Lf1MwpEAXb1SQEABIT9NACNAcn8lvsb/8kACgHLBAQDmPjK+NsBUwPQBUYG7fke+TQFBwEb/VkIfwZ2+xX9nf+U//YBPP8d/94DXgHE/nT8lffQAsIMhf3y+ZcEMvl6+CkOvwV49AUBjQPm+KkBugYo/+D+Z/3C/kMG//75+wMIN//U9bcHBQcv970CMQY0+KQDlAje9GD95gur+rT7bgms9/X4PRFB/Yru6Q1pB5XsuweOD5DvB/+IDSDxYQLDF+Dr8u5CHksAruiAEQ8ESumFEXULFeJVBx0ZleqN+XwW4vI89vgV2fhI8pYTpvy77O4QNwWi7IUOCwsi41P+ixe+9d31IwvB9vn3Mw/M+WfxIw/iAQ3s+QpFEIPuHPquDxL8f/xfDn77qPOcCgsD6PWbCeEEWu5rAigQy/bK+FEMIv1H9SgGrAMQ/tUExvrj9jEIAwMI+JMHswTV8Av+jgtp/Uz8FAPt+8H/hga7/Bf7nAC5APgJiQYS8JL5mQ4Z/2j6Ygtf/bPyxgZyA173UwXuAQr27gWMBAbzxADsBs33lgOcCjn0qfcrCTX/P/0uCcQAcvgs/kT+ZAE2CM//vPfb/jQExgEr/y7+iABBAwMBJP7U/30C4AD4/tsBlQDx+X/++QcqAwP8nv0d/aL+KwWVAVb88QIGAqP4O/9lB8X+A/79BW7/ov37BCD6GPsLE3QEpuxmCesNSOkkACsdofSC7rIRI/2L8U8PMv+N8uIR9P7B5VsPQxHp6VcCzBEx6z346xl8+0ztlQ2DBavu9wRwCwryRP+JEiL0Eu7EEjYHBO2WBx8JkuwEBgESh+q9+nMa+vOk7lAWK/0v6g8UjwkG5s0EJw647DMBWBV98BzyZhNR/Vzu3g6jB6js3AYZEY/uxPbyEX/+evggDJT7SPPaDfADoPF0C1UK1ewb/yUQZvep+h8On/sb9GcJygSa9a4AeQip/zD+Q/5V+KgB3Q9GAnzzXwKrBf/0ngFNEDL6PfZlCov+3vO6B9IHPPzZAqn7VPRQB68FTfbyBwUL1O7b92MPMP4g9yoL4wKs9KsB0ABq+ngMLgZg7t4DEhED8Wn3QBOI/dH3LQ5u937wChUABMzriQ5dCZnpuwYVDI/sZQjTFKjp5fazEVPz3/paGIL54O8rDLv9VvfmDmT/ffbwDkz/Ae4fCTUHwPSgCP0IvvGg/GME5vhpBHoIxPcf/3YE3fOW/tcPBv0r9hYIhgGP9UMCNAa8/SMCtwHi+Nf/9wPo+TsBNQuZ+0z46AXk+jn4qxH/B0HungHbCb3yXQKjEu/zr/NfD3v/d/WlB236KPajEiwEwOv1A6kGtPNdCMILQfH//rsK1fQiACgSTPqd8xcF8gDr/qkFmP4j/UoAOvzbATsDuPyyBW8BGPJMBBgKa/KxArIRwPIb+Q4RdfUg9qIVkvsk7g4QHQEq7ZcNpQgY7lcE+AZ58qUGQQp1870CcQf58j8FrAt58RgEpBAk7An3nBUF+q/15w+D+9Dywgfx+lD9IxI+95jxtQ9x+4z05BOA+THtjBufBvzi7QclBlrybRjqB8Tfuww+EHbi5grwHDvoK/2TEyfkK/rDI+f2x/HJFN/y4uweGYgDc+9QEF8A7+l8D14Mjuj8AyYWNPJz9YoPIvtm8j0NYgj/9WkCDAKN81QFkg0K9Y371Q1P+fD27gtB/Ez2wA32AKr1OQqt+2fwxg8qBaLv9Q5gBvbj2gWPEsju8QK1E+juGPZDDHD30gEhE6vy9/K+D/P7bvNlDbsDLPYpBocA3fWnBXsEHfjzBNcHRPa7/BMM5v1v8uQE8Qtz+aj5kAjf/nj26QZ/BtL15/2QCKj9LPoOAkgC3/+r/7gBegJB+mT8+wvZA5n0ZQHXBLn4uAQaCSP2h/wJB/j3lvt6BzD8iQA/B/XxIPtUFNz58+4iEM4D0u1MCd8F+O5PCk4Kt+oyByUTAug/+/QaQ/H58GsZTvt16r4QmQS38gMPgACj6oYN6Awn74cFOAwB8bcAYg1a9i3/sA2M+bb59AaG/CQCow2+9uXx4w0yB+vxqwNrCyH12v05Ds719vTvFAcDx+ssCXIIMvLADL8GBOO1C5Ucy+Iz+Msgs+qP7ackhPmP5wwcjfut4xId4gS4398YeAqa17sThR172dn9fCC66KL2IxyF8MDx7xZz91XxtRL3/Gn0xQ8D/D3yHQ/s/07xVA3WBTPykgRxA0T4NAckATz2sAZhALv0ZAdwA5P1uwYoBfD1ggK7Ayr7RgSe/d35JAx6/67xcQkzBaXz2Ac+BYrvSwRTD1D3TPZZBU0Gvf8e+9oDQwMK8nIDlxRA86jylRJD/Sv0PxBD/ffzFRF++rftzxRBA4bsJxEiAB7kahXcEYLiKgdtEhDhjQCKINrsQPGeGE317+7kGNQAZOpiDTIG4e4rCpYKpPAaBG0Lr/Ad/hURA/kO914Nof+K8pYFfQb7+OMC9QRu9f39HgqV/Kn9IgnM94v0Hw3fA+PyzwY7Bz7z6QBDCIz3UQHhCkH5GPtsBkr8o/0oCJ/+8flWAY7+AwGaCW3+MPYQBCcDdfcmBoYL7vN1+pANjffd9+EZjgLn5OwKihIX7VP9BhEJ9yD9pA479jn2Sg35/SX5uA3z/PPuJwvmCNLt7gBvEpL5QPbOBKX50v5pEaz9UfN4B1z83fNbEOsIpfAkBukG2eocAaEXBPtw9BcJzACV9Tj/oQRFBBYDOv4f/fn78fldAvoI/wGM/a3+bPs3/UgGsgRK/FMApgUU/YH5RAJuA9AAywSKAPT3QP32Ai3/0wEaB7L+q/Rf+xkHYwS//TUAAvzJ9Q0EUArE+c7/YgtS87zyqxKYA8ruoQunCVTsUP91CW72gAa/CMnuDwRMDE/oif8XGzjvKvOMGwv1guRZGWMNC+dvBmIPtexR+tgPYvx9/C4KBfte91AD/fszA4MRBveV8F0RzwBt6/kQ4A296SYFeQ8M7EL+zBFM+bcBfgWO7eEEdQ+k7yME0xF66yX+hhbq6/r03B5e/n/tgQxP/tDvSgxGC2v38v/8AG/2xwGpCVL7DvxGCjX9xvHaCMEJJfOjBLoMOe0F/RIYTfRl8FgVQP8e78UNpP+/760PvAWe7DkGsgdf9R8IAAWL9LwIdQJe8JQN3Qv663EETRLa8ev5Wg7j+y75/QYqA4D+KPp1/LwJcACI9hsHuQMS9toCTQUB/RgBz/1AA6wKCPMa97UTKPsj848WqPwf5wYVBwdz41gSXRQu4ZP/SRTl6ov/rhde7lf46RNY7h/2wRts9dXtgBia9pvk1x76Cc7Zvw2TGkziWflZGh72uPffDvL2OflYEPr8FPe4CF38OvdwCVMF5vmy+137jgGSCBb+7viIAtQDI/zP+UUDrAxI//3v0P+VDGv9xfoSBln+AfomBTYAq/n1BdoDRPgqA7kGm/ja/vQHZfzy+4IE6P8hAFQC8fkQ/koIEgBA+qQBLgHQ/BUCTAUT/ef5+ANpA6D55wIVCCH4kfslBz79SgFwB870kP4vENnzKfYsGXX7TeL7DTcTYvIbAOsHePPu/gAJNPnfAuULevMk9QIOBgKy9E4FZgIL94wFgAIA9tYIfQQy7+4L8Q8k5AH8dB/V9G/u5hWDAWXvJQbkAzUDRwaF7w8AfBc88j7zBBe09+LtVhjVA//pjgqBBgPwfQdjDVf4u/kEAtQEYAD5+CoITApN8PD8shG191H1WQ6uAjP4Bv/D+40HIgjl744CFRHp6iX3WB3D+Vzpfg3GAk/1wgvY/Qfx5QnzBLP3qAS7/gr7hAfR+f74Ng7p/RL1UgtV/hv0IAuK/xz0/wzyAabxRgqKAufxtwxRB53w1AYiBbbyewqpBQ/vrwwUDAvq3QIKDkjwOwULEIjrPPtuEQj0UvyoDxLyTPjQEmT4QfT0Div+T/ZlCrH8TPiYDaD8k/JNDo8DQe8lCboIxe5zA+8OaPPL/DIOU/RS9swSCv9u74ALQwfA7xADLguy8+v8LQ5w/Pn3oQUK/RH7IAl5/nX2Fwt9BTDsvf8QFkf6s/C0DmwGU+3+BGER5PMh+QQQ+fsM9IUKmgN1+RkGZf0S90UL1AVA9rEBvQES/ZEIu/4T+KcL3f/M75sKBg1G9YH+9wRV/GIB5f1nAFcM+vR/8aIUZQFp7KYRUQZm6PEMNgtS6zYNBAz95FIJzhKr5YMFnRdk5Oj+zx0V5K/yQCeG8iDlPSDL/3rf0xUKDm/llQksD2HoCABfE5b2pPxGCJ7zff+GEV73zvO8Dt4CrO58AVkMUvsQ+80G1PsS9VEIywkB9qj7sAcZ+475KAjDAwb7BgBNACL9XwGDA9P/f/1T/0sAc/4/AlMEtfqI+5UF+f4C/zkKUfr48scNSQbl7eYHPRD960L46hWD++rxuwx8An/1Swbm/tL3Kw3BAvHvwQUVB2n2agjgBJbubQllD1PqCP6EFobxEfXSF0H9ge1FCnAFJ/ksA777vf5yDOr2rvSyEfkBjO8ACIsGPvYsBFkAIfagC4IHV/DFAJoIkPdrA6gIhfQw/3YJYfYWAaMNi/Gx95AUKPqB7jYSVAbW7MMIxAik7JIGQBRZ76v1TBEh/MP0CAsHAQP4EAi//YXz8gxqCt/ryPv5FHj7nu88DKUFZ+2jBV8RBfFW+LsQn/eg9tIUpPlC6ogVMAZP4iQPAhaf4d7/TyC/6p/tjh0e/p7t2xHy/lfwsBLc/qzoxRNEDMTkVQfmE3/p5/y4Ga/0nu/oEHUDFPRABiIDjPi2BcgEtPclAckH6fqt+0AHNwEb+twB3gM5/nf+2P9iA0cFKvnU+KEMwAWn8XUBowvv9Vf67A6h/77yEQMxBAz7IwUeBcD11Pw9CaH9A/npBZ0DzfkE/lQB2P/lAfP/2f43A0MAjfuz/aj/kgMpBHX8hP0HAL/62wJZBpz4MgHbB7Hyy/4REpHzrfSSFQj87e8KERr89e1aGdkFj+FPDpMQyeQLCFYYAeak+hYdO/LZ8ooXK/Za7AEYLwXK6scKwARc7TIOQw3h5j8CQReR7XL1jxn4+bPt8xRyA+vmdQxvEYzqQv7BFfX1nvXJDWn6f/hYEqD9hO4uDBIF6PA2CtAGZOtkBvgSgu+O9zYOOfk2+ZMKFP1m/XsF6fMk/qwRiPhE9fsNvvyX9ckPef546nkLJhKY82/5cAnU+uH2jgjPB8b4X/0SBo35l/h0Cn0CwPeuCIMClvFuB/QJQfGZBA4RjPLz+mENj/JD/BMbOvkh6q0QFgR77BYOJQ0n608Avw2A8bn++xIa95T1xw2J/cD1ugx/BN30vgN6BaL5GwD9Ai39cwIvBIb7VPoEAYgDOABFAJ4B8/pB/VII3v1k93gJzwE78WwGawlU9BMBiAOR89gKHAxz6tMBsBKL6oX6Uhzs89bu2xZn/HPrHBJuBprtNwkdByzviAR4C4v15P6eBvf4rQGNBu/25QCpCl/26fqIDpT83PRhCyQDevS6BosE4PRZB6EJsfLt/1ILx/Y8/6oNfff29rsHk/wEAqwMBPB/9BoYI/4l6rYSBwv/5QcENhP272j8PBPR9aHzbg0Q/sv4jA+z/obtuAdFCUn2hQWzByvxcf49DWn5tvxPDPf3RvW5ESYGAO27AEoMjvdz/skPs/nl750LhQen8BwGNxAT8V350hGM917zVhQRA2XtVgi3B1fztQJFBMX3RQgECOv0d/0KAi78owcABBz3TgHRAZj67AJS/u785AtF/b/z/wwxAS3rVAmtDyn0/f+sBr/z2gCMCTr4ogBFB6343P7LAML28gZHB37yfAO+Cl7w1P0BDgj0RP2UE5L1MPNDEtX6s+5FFjMG2uJMDGYZTOTV9VgjQfYf4vgcUQ7b2wsJJBtS4b37kiZB6l3ppCnI937V2CRxFH/RRQ9lIVfWNf3GKk3iU+z9LLbyGd9GKOsDAtP0GiUb4tSQBFAolN5F6YQtov102YwZAROP2eACRiOz7FnwKB3l9wnkrxfPDbDnCQvkEpjn6vvcFYHzCPm0FYf3z/HCEzn8OOjiEA4Q+e1uAWULKu28+Q4V3v4J8kwG3wRx+UH/e/4m/QkJiwWp93v9LALt+bgB8wth/WX1AQN7BHv8BQHYAoP9df/TAK7/WAKu/tX8cQXbAD34MwTrBAf1Tv5PCpf8afvEBKL6ifrqCNsCB/uaAD39+P3wB3IAS/o0BJ7/xflPBr0CKvh/BYQF6/X/AawHevQb/6IP3Pn09C0IiQAr/cUI5vp1+igP8PvD8KUQDQal68IJzQwn614EBhZf7Ar1vxnU+pfsWBPyBunnQQU+Erjyq/iGDHj4vvZeD8T/Ou4yCbwKxO00/VcSBfx/95MHhfsP+xkN0fzs804OmwQz62QFghJg8Zn19RJxAvnxfgPFAGT2cAqkCjXv//icDxL9iPEDCdcKcfV7+fsGowDU/HUCQf89/tsDkv1u+4YI0wIR9UcDyQja9p/+swvO+hX5zQbC/dT++Aqu+fvyYwlGB0H6oAE0/7v44QNmBTX8Dv/iAnD+G/qn/4QK4AC489oE0gdp8sQC1BDU8Sz34hLE+Tr1HhPy+BTrPhhnCsTi9QaqE87q+fxZGM72cvJXDcb9gvcoDg7/m/DBDb4Klul3/poYF/fc7SMTzgUs6K4I2BIz7BD6JRTI9iX4CBPK9mXwAxfKAv7nHQ7xECnqWvtfFdb9Q/K7A7oGcv5C/lwAsv6UAO0DXfsL+iULowL77ckE4BB/8Lv29RMp/n7xOwowBGn2BwU8A1z6tQWMAVb2wgOcCOX57/q/BYIBIftBAg8E3PeU/HgMNv9Z88gGbgYe9sEClgTH9WsFUghO8TwB5g7w8oj5JBJZ+8vy0wquAt72fQVzA2b5yP/bAo0CMwDt+SMDDQfp9mr97gp2+wD7xAif+8/5hggk/pv88geA+Fz6Cw8w+2DzpA7B/+Dvhg5MB4HsvAULC9XxbQPfChryjQAECyXxpv9wFVP2l+8UDjgGHvRIAWoGAfzp/Q4GuAKf+DX8EgeZAqj/lgIx93T8dA6++lX1+RIV/GPmpRXHDlDfsAZqGermvv0KGgvoSPW+IFj0h+3fGQ/5iOqTGPEAtuhIFVcG3OJEDn0SoOYfAkoWye5F+N4TwfnP9BQJF/36/RIMRPgH9aYLhQDV9s4JhgRY9p0A9AAd/McGMAO7+OD/HwG9/HID1gKY/CQAUQF+/n/+jP9+BEoB3vcoAxkJLfXh+hcPCv4R9kYJdP9u9a8JXQVK9dgDfQa698EA7ggo/Tf6+wIDCP//z/NPABIP1fx49YMGcwDy+AAF+v+H/MgGEvvL+rMLbfVt8RQa3QVZ4jkMkhLb4yoARB958oTvWRPD/Trv+gptCXb7OQFm+5H51Ah6AuX0pQGXCGb5ufn0CPUA1vKhAvQN5vsN+SAFLftR+XkLEgVD9owABAVQ+ir8vAQABDr+Bvwo/0//Kv4IAlgATf7mA+j9yvhFBcwAJfcbCREGLu/GANwMrfWP/cYMPfh0+k8K4vhO+/wPcfsd8YsNUwkj8gz/AAjN+mQBlApI+533CAUZAsz/EQl0/FTxnwjaC8jywf3HDcL34/cVDrL/CvRVBrEDdPjDBPIDy/TG/hAMO/539oMHugZx8ksAeRNP9xzwphRsB/TncgUfEWzymf5jD7n2RvgWC3z+BfwuCMP8QvYPBlQIcPhL+KoLQgeT73r+6hCR9u/2wRDV+v318xGT9t3tJB3gApfeThSeE4jdiQL0HIvtjvYfEoL3Gv2gDifyA/f3EgP+SvP8CIADUfYb/hQE9QQAANf4RAHkBF75KP0OB/EBof46/XX5kAH8Bnr+nP2zATr9DvyOAaMF0QLJ9+T5QgorA7z0ugTpCYL0A/v6DBkALPmEAvP9MP45BqL/Q/8VBLr53vsPB7H+8v7fB9L7jfj7Atn+4QIPCSP5VPrzBmX7qv4rC5L5NfrRDND7GfbJCiL/rPa7CngBTPOZBYIErvV/BNgJoPYy+rYK0QHV9RcBPQi0/KP8JQZf/tb6rQUr/8L5CAqoA97wqgMXDqvymPaSEs0Bze5eBQkJtfWwAMgKp/tT/C0CIfu3A4QHt/eQ/nAI7fp2/6IFPvVeAOgP8Pde9aAJtfxi+IgK6P8x9WoENQQX+Dv8NAYLBaf4fPpxCgf/3vHZCGMKvPKQARoO1PWw96wMDAMq+ZUBqAFb/SgAGwEY/lj+LwEQ/5z+VQP+/Ij5mweXA/L2sQWJBFHxdwMzDrH2OP0DCLHy2vs4E0v+ifAcBMoG5vmG/c8IUgBS8bYDeRKu82DxDhVDBJPrhQipC3Dxnv1pChkAEgAR/tv6IgWiBLr9UQF/AC/+bgBEAnkGZv+G9wwGcgVw+VcLMQMN5UwIkB6Z7eHyWhcX9XDwuRq9AX/sWw6T/8jrHxPIDZnpVQI/DYnxAwEIENv3PPueB9D4vACpDLD2W/g8DRz8v/N2C4ID2u8aArgKafl4/YgE0Pa0+9YLUwGd+XsCaPtY+PcJSAcC+Fj9WAEvAoIIvvgs8sAPxAmy7H8G0BHr6av1LBim/+L2JQpT9cf0uxN1/p3vcQ/BAbHrsAobBoTu4gv1Bzrp1wtPEbvi5gDdHhjrzu+wGyD5cu16FvP+ZujVEWENLurR/mwNifu0/oIAR/iJBVcGzvRH/5IJJ/lR+4AIY/1X+3QHc/3I+E4ICQLa+JEHrAGb8oEGtAxU9pD9Iggf96H+dA4q+kn2GQs1Aaz3oQZ7/6n3UAtkBMfvugOEDJj1lf8ODi33mvg4DPP6sfehDXH/HvS1B5oBefjGBhz/kPuFCjr4w/XgFZf+A+d5EZIN8+ayBaASDuww+6UTMPp194IGrP6gAP8BBPk4A/YCX/UDBL8JKPcT/OwD3/ofAW0GaPwS/Ob+YwAqA8n5t/1bDvP74e7DCfEHovUECE8FE++2BGwNffNB/pwKJPYS/5IMife1+tsHA/iCAEoOBPUa+OsPFvsp9bQMCgBc+I0Ii/tm+QANjfum9HMPmAU+9OkCWgI8/bQEDv0kAeoL6/ZV9vsPPwOd9TQFzwGt/JwH1v5I9/sCFQR7Am4DEvre+x8FLgGAAnAE3fl2/GEFTf4r/CoDbgNcAWv7sPjMBJwEC/eRAfgKi/ZT9hMNNAHL8fkHzQqH9icCMwUy8LADmxLx83b9kRKf7iDzPBiL97Hx0x37+pbghRO9Bnjp9xVDCsfg5gddDTjsYQpNCurpWwvGC+LjyAV+EmDqxAPJEw3rovqqEGv0KP4rDRL2Rv75Bt30WAI2CX74nQPPAKfz4wpbBNHvrQvGBIzr2Q7FCgvl3wYWEa/v3AclCebn/gkREbbnOgZyFBHoAgDRFcPr8fswGXr2afbFCk/34P8kDvj2If/8CoTwM/3mFu/5cfEFDRcDvfKtAv8J6/8u+bP6bAbZCd36Z/a1Az4H8/wm/MgGEwGY8gQCJxIc+qvvPQpuCu/1wfsPBMIBCQQ3/TX6KwYb/sz1MQs4CvjyGfwQB9/97AKrAxH5EwIoBP36qAW2ADnyagofD2zwy/z2CynzlP32EVr33PYDDdT5rvegDYr8cPeyDd/9gvJpCMQCVPpgCJz8uPfgDmgAT+48CVYJLPK1A+oLNfYA+/ADJPxABtUHv/OK+zQJOvmq+Q4MfwJI9SP+7AF+/5ACX/4G+4wD8QF+95r+Ogio/kz54AK8A4j8BP0r/wYA9QMxA/T8SPysAeMCrv2VABwJVf1R8iEHZQua8lj9Zw8j+UL5hguH9lH2ERKKACX24Qna9VXznheh/9bryxU2BD7iOBD8ECHmIAlIFVDpAf/ZENPvJQXyE9bslf6KE/XtEf4QGcbva/WwGNH2ffF9FLj67O0hEdIEuPDpBtsCxvFQA+cM5v8X+e76FAEJA4ABwwNc/ff7bAdi/Lf1cw3HBK/wuQgsB2bvqQUzBgfxKxFSDVnf9gENG2DtOP5dF8TprPgOHaDuvfAQHNn1c/AQHIL1weWGGZ8BA+sLGZ0ASN8xEyIOiOUKDYEQ2eYJBYMPJOrXBNoUAu3J+9IRM/S4+7YMWfXy//cOffM7+zUOpvSJ+KwPj/3u+joFcvJD/V0SAfeT9CUPVPti8ZAK6ADf9wsKp/wW9C4MvgBT8YALAgdR8CcGzQkw8ckBYQx49U0CEw8X8cT2CxPf/aj0oQ3hAJHy/AjYA9/0LQpVB6nv/wIRDnvzk/mYDwQAxvdPBo8AlPkGBQ8D6ft5Bf0Dg/Vc/F8KigLT+SAAbAEt/fAAcwGj/EwBJAPy+Rn9xgbb/p75EgSBA4z7YACmAYj7KwH0Bb/9wvwqA5H/SPzAAlQEbP7l/AL/zf+fAEcAIP/9ACUCMP+I/YT+fADkAyICwPz//7UBePpPACoK+v2x+G4GXwBR9msFgwcA+gkAsQFj+YAEDgbe95kCpwgj94f96ges+bX/Egvd+FD6Dwun+5L3BwviAJH2DwikAhPx1wBJDpb+kfarAAkDLvzx/QwE1wDR/qsBEvwd/NwGtQG3+oME9AAr+BsE5wOL+D4E0we++G79jgO5++4CdgeQ+vz7agL1/SEDYgTf91j8yQcVAmf9E/7A/BMCGgVPACD/XfzZ+0QFcQQ+/RcBif1M+Q8H6wVF98sAVgYm+IH9JAfO/A/9MQMm/Pb/BAcA/VP7AAMaAKwAlQNl/Rn+igGv/UkCWgU9/Cj+0gPL/awASwUj/IX9awUq/3b+kAOA/ZL9PQNH/8gAtAIy+Nv62gd2Akz7t/+F/j39VgNsAx7+yvxAANUEKQLK+yL+RgPoAhAB4P6L/mMBkQFxAOT/Af68AMEDV/5H/J4A/gB3AeAA0vxVAPABvPscAlQHUvqa+nwG9f9u/IwDBv1F/DoHJ/82+KwEJwIf+UIEiwQr95r/4AfQ++P8owUZ/MT7LQiM/7X3oQQPA+r5EwRXA8z3QwIKBoT4dwAsCMj5FP1lB/D7Ef3xBhH7SPvACJj8E/cpCBsCQvZfA+0DW/h6ARcG0/vt/bEAnvwbBI8F4/lJ/ugFVP0g/zIHiP3d+r0FyQHR/JwDw/8g/BEF7gDi+ZEEXwOg9zwBRwd9+47+3ANc+VP+cgkU/t36VQWy/aT6Jgh+Afb2OwQIBj75aP8VBbz8GQD9BDL9VP7VA5f+vf4iAz3/kwDcBFH+PPwJAnUA+QAeBrH/U/lt//wBPwAEA5IAP/zZACkCaf0z/+0Avv6HAg8DovpH+54CxwCf/yMDSP5c+gEBAQLx/LUA0QPn/Rz9UwGQ/jT9ZgP4Akz8dv54AmP++f4PBNX/6P0HBAP/ovijAvMF5/yY/+sCQ/tz/Y4EDQGm/8v/wPsLATsFzPsL/N8F4AGN++3+bQBkAHEBNADfAMX/1ftIABQEE/5O/isCeP0X/isDKv4V/fcD0QAb/EoAuv8F/egBuALd/a7+QQDB/iwB6ALx/qv+aAI5AF/9OgFyAtr+PwDvATD+2v5aAvr/IAApA3r+DfwoAkgCPf4ZAAkB9f9YAAX+6f6TA6r/q/xdAq3/k/sRBG0Dqvnh/8oFef0y/qsD1v06/kwFMgDr+nQATAOFALX+cv9eAtIAFfyB/98D2P9I/psATv+Y/4cBlACuANH/2P36AHMB2v0lAcYBH/xVAHAD5fvs/wwH9Ptv+I8FnwVl/Wj+Yf79/bAC8wEi/4cA4f4g/54DBQEE/kwBAQBU/8UEcAGj+sH/1APp/0QA8ABz/OH8MQEeAUAAtv9s/LL8CwKhAXr8A/9jA4r9r/lQAbQEBwA0/73+V/2ZAtwDTfwx/SkEKgJY/g7/Rf/FAL4BVv/XANgC/v2K/OkA3wBsAG8CFP/4+ywAQwJU/7L/GgI9AAH9aP7pAWcB4f9sAVAAqPzG/pMCyABh/8cAbf+m/UX/hQGYAh4B7P05/6UCYQAb/5gDVALM/N7/7gLl/cH+VgQCAM/7QgDO//T8/QHdAg79D/7NAD7/FgEpApX+WP+NASMALgFYAYD+ewCcAZf+2QBtAaf8DQAkA0H9Vv/cA2H+pQCJBYz78forB0kCZ/tBA+oAxfqLAxkEavtHAHEDD/2b/8MBIPyC/wUEsP6O/lYBT/3n/vkDZQDK/msB+/2X/YoDOgL9/SwABAEG/zEAjgBV/uL+FgFiAGP+5v5aAIH/3/7y/zn/1P4eAUwA4vww/W7/fwHYAt3/I/07/2X/4/41Ar8AU/x3/4EBUf1X/nMCtwGaAIz/zP3u/+cAQP4eAD8Ctf4e/oj/Hv0ZAB4G0AAO+kP+HQE0/yUCSQKA/I3/1gUzAKP7ZwE5A1gB2gKl/jz69gGOBZz98fxCASb/7P8MAnv9iP7aBDYBmPvo/ZwAygItBC4AnP6yASAA1v31/iT+ygBAB7IDpPrK+gsAoQK2AsYAdf+E/zD/dgCYAHr9SgBXBkwCLPxH/jb/pP6WA3cEKv6P/HL+t/3U/34DHgG3/Vv/3wCS/xb/xf+bAMkBvADV/cP+yAGCANr+tABlAIf+EQAZAJb9h/9FAoQAe/8H/+f8X/9HA2QAb/44Adn/+/3oAFwA3/5MA0kD0P0P/6IBkv+UAewDpf9O/uAArf/p/z4CIgDJ/wgDwgBV/bv/MgExABYBvgAg/xgAXACf/oH/4AHhAZoANf/n/cn+VwExAjgBxf/C/c39tgCJAJL9ef/zAskAif02/O/6sv7VBcIERf2M+cv6AQCPBZMD2v17/QT/a/4k/5UA5AAqArcCRP8Y+6j7bwCgAzIC7f4d/Nr6S/09ATsCVwHu/8f8Bft9/dgAxwJIA/wAg/21/I/+ZQELBCIEWgF5/gT9m/3jAGkEfwRAAYv9J/yX/qwCNQTmAvgAXP47/On9nAHvAr8CwAHQ/eH62v32AdwCMAP/AUn9hvr9/BABvATXBScBNPsN+zX/2gIjBO8CQgH//3L9Sfz4/0AE9QTSAvH9H/pb/d0CiAO5Ai0C//4T/cj+1v+bAScFmgPt/Wj8IP7x/y8DUQTdAFX+U/7p/bn+QwH6AaoAM/+N/Zr8Nf6XAVoD8gG+//39cfzv/aQC2ATmAqH/Nvzl+z8AawO+AigBsf6p/Nb9dv9kAJECrAKd/7/98Pw8/ZIB4gTTAaD9OPx1/HT/HgNwAmj/Dv6W/Xv9Zf6N/6cAKAG//3f9v/x+/rgBfwPHAa3+WP14/oEAPgHJAMsARgCw/nb+Z/8aAPYBVAPoAJ39Fv2g/ksB6wJ/Adj/af+s/nH/sQHUAeMAFgCn/eT85f9JAXIA1wDz/3/9Nv6pAC0BQAE9AbL/hv4l//T/cwCIAf4Brv/B/L399ADWAc0BDgKm/xH92/6rAT4CTwI1Ad3+uf4HACsA1gAlAsYBiQCD/5v+Sv9GAegBzAAw/yn+rv4QADEBhAE9ACz/NgAeAMf+1QABA7UA/f4x/wD+lP8xAyIBI/4dAAIA1v1BAO0Btf9XAMkBWP+p/msBVQL6AewBIgCR/tD/WgGjAVsBmf9t/e/9//+sAAgAfP40/X3+mv98/a78hv7O/Z38Rf6l/b/7a/5yAGv+e/5x/0H+LQBPA58BWQA3AhsC3QE5AwcCKwGkA68DZgG7AecB1QDjARwCyf+P/6MAsv9j/zUALf8h/hj/d/+W/mH+b/4M/jP+xf6m/i/+Ev74/QD+o/42/3j/HwBFAA3/sv5DAB4BeAArANv/Ff/b/6EBhAFsAJQArwDT/3f/uf8BAJ4AugC5/xj/pf+QACYB3QDo/3D/yf90AOkAqQBUAIIAPgDY/6UAagEHAQEBZAHkAHIA8QBGAfwA0QDbAGAAnP8MAD4B0QB7/3P/gv/8/sL/jABl/8P+qP+N//v+mv/T/0b/bf9v/9f+R/8qAP7/6v9dAPn/mv9kAM4AkADjAMwA9f9bAKcB9QGJAdAAAABHACABBwF3AP//qf/3//v/RP+e/40ATQDq/6r/2v5t/yYB3gCk/9b/IAA2AP4ACQE8ADsARwCR/zv/gv/T/wIApP/e/ob+2v61/08Avv8A/z//Zf8E/zf/uP+x/6T/yf+W/zz/Vf/G/+n/m/9b/0f/O/91/9r/7f/O/97/HQBEAPb/rf8aAH4ASAAmAOL/Yf/8//4AgQC9/xsASwAHAEwAewAQAN7/EQAwAAkA1v/u/wAA6v9LAJkAEwAWANMAjADm/w4A4f+M/yAAVQC+/63/wP+C/8j/HAC+/2X/f/+d/37/df/z/xsAP//2/tz/SQBAAHIACACL/+X/9f+q/+j/2P+T/wwAHgCX/wcAswCDAIIAqwBXAHUA4ACJAD4AmADJANAA0ABeAB8AjgC3AGsAXwBiAB8A6P/i/wMARQCMAJ8AFgBf/6P/WwBSAFAAnAALAG//2//z/5f//f8SAE//Pv+c/37/4v+JAA0AT/9w/7X/1P8uADwAsP9H/2n/nv+a/6D/r/+f/77/2/92/2H/JgBtAMv/g/+//yEA2QAvAZkAKwBXAGMALQD3//P/PQBgADkAQgA7AAEAIwA5AMr/oP/s/xkAPwA2ANX/0f8GAMj/q//V/3f/LP+M/57/Y/+r/9L/hf+c/83/jv+g/xcAJQADACoAOgAoADsARgBMAHoAigBMAB4ANQBVAFIARgAnANP/lP+y/8//sf+m/67/kf+H/7f/6f8BABUAGgDs/6T/n//z/1sAmQB0ACgASwCVAJMAvwACAaIAGADy/+P/LgDBAJkAFQApAEwAQgBwAFIA8/8aADEAv//E/0kAVQAoAB4AzP+k/zIAhwAxAAUA+P+0/+n/UwAoADsArAA/AKT/8v8mABQAdwBvAOP/+/80ABYAYACAAO7/sv+3/1f/Tf+T/2r/W/+K/2H/ZP/X/wcACQARALj/W/+T//X/EQAJAPH/3f8BAEsASwDo/7H/y/+v/5X/1v/N/4z/0P/7/6r/wv8AALf/sv8GAO3/3v8HANX/8/+EAEoAwP///yMA3/8MACMAsP+l//7/AgAMAFIAcwB2AE0A6f+9/+j/DwAmABcA1/+4/+7/VgCVAGIAEQDi/5P/a/+W/4v/lv///83/Uv+m/+f/rP/v/+//Mv9G/wAAOACWAAgBrgBuAK8AjwCHAOcAsQAaAPH/6f/v/zUAXQBOADkAFAAAAP3/+/82AGkAIwDe/93/2P8MAGEAQAADAAMA4P/a/yoALADq/+P/5v/x/ycANgAzADcA6f+h/7j/tP+1//f/1/+T/8D/wP+I/8L/9v/h/wIADwDn/wwANwAlACkACwDe/wYABgDd/yQAQQDp/+j/8/+1/+L/FgDV/97/4/9g/0//ov95/5D/CwDs/6n/2f/z/x4AZwAtAOD/+/8AABoAbgBvAFkAawAuAAcARwBOAE0AdQAdAMP/BgAdAAMASwBQAAAA/P/m/7r/+/8cAAEALwAuAAAASwBrACIAPgBVAP//BAAoAO//CQBMACMAMgB9AFsASwB8AFMAGQAeAAQA7//5/9b/xf/X/6L/df+t/9f/2f/6//r/rP9n/2P/hf+j/7D/wP/E/6j/pf/a/w0AHwAdAAcA9v8QAFMAiACLAHMATQAJANH/5P8hAEoAYQBIAPr/4P8SACwALgA4ABkA9v8CAPD/zP8AACwA/P/h/+3/+P9EAH8AMQDo/+v/0v/X/xkAEgABADMAHQDm/wwAGAD8/zMANQDM/8L/7f/T/+T/+v+i/3f/pf+a/4j/qP+L/1D/T/9e/2f/ef+A/33/ff+G/5j/h/9k/4P/tP+v/6//yf/q/xoAJgAHAAsAFAAAABkALAD6/+j/AADu/+3/HwBDAGAAdgBhAE8ASQAcAAEAIwBEAEwARgA1ADgATwBoAH0AYgASANX/tP+n/9P/BgASABsADQDu/xQARQAqABEA8v+i/6v/CgApADYATQAYAPf/KwBGAGAAkgBmABsAFwAIAAsAVwBpAEYATgAyAA8APABKAC8AVQBPAAcACgAjABIAKQA+ACoANgA1ABMAIwApAPv/9P/z/9H/6/8XAAMA6//J/4//of/u/x4ANAAYAN//3v/s//L/MwBTACgAQgB3AF0AZwCNAF4AQwBTAC8ANgB3AGAAKQAOAMH/lf/W//3/9//z/8r/vP/z/wwAHQA7AA0A6f8RAAcA/f9MAFEA+v/p/+H/uv/z/ywA8//L/+L/3f/g//L/2P/A/8D/i/9J/1P/ev99/2f/R/8n/yD/Of9N/zz/Jv8m/yD/K/9m/4j/af9U/03/MP88/3H/fP+E/63/r/+e/7//3//q/wYAFQAXADAANgAuAFUAeQBkAFIAVwBkAIQAlQCBAHcAewB0AHQAdQBoAGAAVgA8ACkAKQA2AEUAOgApADAAGQDu/wEAOQBWAHAAgQCAAJsAtQCiAJIAhgBQACcAOABUAGwAjgCpALcArgCQAIQAjACNAI8AggBEAAYA/v8QAB0AFADx/83/o/9s/2z/s//g/9X/xv+0/5X/iP+F/4b/nv+r/6P/yv8MABcACQAQAAIA7P/9/xMAGQAyAFUAaABtAFAAKgA0AEIAGwD2/+7/4f/h//P/3P+r/5z/of+1/9///P8dAFwAaQA7ADcATAA2ABsAAADJ/7L/yv/U/93/7v/i/83/vf+m/6T/r/+e/4v/kP+l/9D/8P/1/wcAAgDB/5P/gv9g/2b/g/9Z/zL/TP9N/0H/Wv9W/1D/gP99/z//T/+K/4z/if+m/7r/yf/a/9f/2P/+/ywAQABMAGgAewBhADQAKQA+AFYAYgBlAFoAMQD6/+r///8IABYAOgBIAEYAWQBgAE8AVwBwAGwAWABZAHAAhwCKAIkAkwChAK0AqQCJAHoAlQCeAIAAaQBJAB8AIgAsAAAA3P/p/+j/1f/h//j///8EAAUA8//S/8f/4v/6/+f/zf/N/9j/3v/k//7/LwBAACMAIwBGAEYAOwBPAFQALAAHAAkAGgAeABkAFgADAOv/9v8PABQAEQAEAPP/DQA1AC0AKQA6ACAA+P/+/wQA+v8FAAwA9P/z/xoANAArACAAHwAcABUAFwAjADkAXABxAFsAOAAeAPz/0/+z/5b/h/+P/5H/g/+A/33/Xf8//0X/Tf9A/1H/h/+e/5f/qv/K/83/wP+y/5b/cv9S/zn/Nv9S/3v/p//L/+D/9/8fADkAIgD6/+n/7P/v//L//P8UADUAOAAbAA0AEgAJAPv///8CAP3/+f/6//j/+/8DAP//6f/e/+7/CAArAFEAaQB5AIUAbwA1AAUA8P/k/9z/4v/3/wkAFAAxAGMAcwBVADIADADY/7X/sf++/+D/AwASADYAcwB1ADwAJwArAAcA7/8JABEAAAAUACsAFgAbAE4ATQAcAC4AdACKAIcApwC6AKUAkgB9AFoATABSAFMAWABWAD8AMAAoABQABwAFAP7/+//z/9v/1//m/+D/3v/z//3/AAAYACQADgADABEAGgAbABsAFAABAO7/4v/g/+T/9f8WACgADwDw/+z/4//H/8n/2//M/8P/6f8EAAMADQAEANf/vP+0/5v/lP+2/8v/0f/3/ykANQAVAPv/AAAHAPr//v8kADkALAAoADcAQgA8ACwAKQAzAB8A//8IABgABgAGACcAIwADAAEABgD6//z/DQAKAP//9//Z/57/X/8u/wv/+f74/hT/Q/9f/2X/cv95/2L/Uv9g/3T/h/+r/9b/9P8MACUANAA3ADgANAAfAP//7P/s/+X/0v/E/7j/pf+Z/5P/g/9r/13/Zv+D/6D/wf/v/wwAEQARAAAA4v/e/+z/7P/7/y4AZgCRAKoAqAChAK0AtgCwALQAuQCkAJEAogCmAHUASQBEAEIAPwBSAGEAVQBFADwAJgAAAOn/8v/4/97/zf/o/wAAAwAEAP7/6f/h/+L/2v/a/+f/8f/4/wQAHAA6ADwAJAAcACQAHwAXABkAEgAHAAgAHQBEAFwASAAtACYAIAAUAAgAAQAWADMAKwAPAPf/1//J/9f/1//W//H/9//f/9P/t/+N/5X/tv/C/9/////7/wUALgA7ADsAUQBfAGMAZgBCAAwACwA0AFYAawB1AHIAZABBABQA8v/Q/7X/xv/x//v/6//p/+v/1f+7/7z/yf/K/9D/8P8QABsAJwA+AEAAFADY/8L/2//9/wcAAQD6//n/9f/o/9z/3f/s//b/4//G/7//t/+b/47/mf+d/5z/mP+O/4n/hf93/3v/kv+h/7n/0v+1/4H/fv+N/3v/aP9s/3j/jP+t/9H/+P8gADYAMgAkAB4AJQAyADcAMgAvADEAOQBGAEYAOQBKAHIAcgBLADIAIQAMAAMA+v/b/8j/0P/f/+3/8//x/wkAMQAwABwAKgA/AEcAZQCJAIcAfgCFAHsAYABeAG8AdgCHAK8AyQCyAJoApgCbAFEAFAASACMAKAAqADEAUgCCAIMAWgBBAC8ABwD6/xUAFwAAABYASgBWAEsATwBHAC0AJgA4AEAALQAbACYALAAVAAgAFAAIAOL/x/+u/4//jP+e/63/xf/u/w4AGgAYAA0A/P/Y/6P/dv9o/2j/Xf9X/2n/hf+V/5r/kv9+/2n/U/86/yz/NP9P/3X/k/+l/7v/x/+z/5b/kf+g/7P/x//h/wAADwARAB0AMgA8ADQAHQD9/+T/4P/p/+z/4//Y/9v/6f/w/+n/4P/k//T/8v/Y/8D/vv/B/8r/6v8AAPr/+P/9//P//P8gAC0AIgAqADoARQBUAFQAOQATAP7/AAAOABAAFQAwAEwAYQBzAHIAaQB0AHIARQAmADsATABAAEQAWABUAEYATABFACUACwD8/+X/3//6/w8AEAAYACUAHwAeAD8AUgA8ADgAXgByAGsAcABvAFUARAA8ACAAAAD5//r/9v/5/wQABADv/9P/vv+m/4j/gv+W/5z/m/+8/+b/+/8KABMADAAFAPj/3//Q/7n/lf+b/7n/uv/E/9v/yv+7/9H/yv+m/6L/qv+m/6z/qP+d/7///f8aAB4AHAAUABUAIQAfAAsAAAAIABoALwA1ABkAAgAWACwAIQAOAAYAAAADAAwAGQA0AEcAOAApAC4AKAAYABsAMABGAE8ASgBCAEUARQAxABYABADs/8z/zv/0/wQA/v8IAA4A/v/8/wAA5//G/7T/nf+L/4z/iv+A/4f/oP+x/6H/g/+H/5v/kv+M/5//pP+s/9///v/j/9b/5//m/+n//f/5//j/IAA3ACUAHAAVAP//BgAwAD8ANwA+AFAAWwBYAE0AUQBqAHwAdQBhAFoAYABpAHoAjQCBAGMAbQCYAKoAlwB+AGkAVwBBAB8AAQAAACAAUABpAFQAOABCAFAANAAEAPP//v/2/8j/q//G/+n/9v8FAAwA9v/k/+T/0f+z/7z/6f8OABUADQAOACIAOAAwAAIAy/+l/6L/vf/K/7n/vf/V/8j/o/+V/5P/kv+f/6z/sf+2/7D/pP+q/7z/yf/Q/9X/0//K/8X/0P/k/+7/9P/5//T/7v/w//T//P8LABQAHgA8AFYAUwBBAC4AFQD///f/8v/w//n/+f/m/9//8P/4/+3/6P/l/9b/0f/h/+b/5v/x/+H/uf+4/9z/8f/1//b/9v8FABsAFQACAAAABgAVADIAOwAbAAAACQAVAA8ADQAPAAoAAADx/9b/w/+w/43/ev+i/+P/BgAOABIAFAARAAMA8P/w/wIAAQD2/xQAPAAuABUAGQAfAB4AIQAaABkALwBBAEgAVQBNACkAEgAZACkAMAAbAPT/5P/l/9j/zf/m/w4AHwAjAEUAfgCYAIEAVwA5ADEALgAgABsAMgBOAGEAbgBnAFEAPwAZAO3/5v/4/woAJQApAA0ADAAmACsAIwAWAPT/3//t//j/9v/6/wIADAAZACAAGwANAPr/4//V/9n/4f/i/+7/9f/f/8r/xf+r/4X/ff97/2f/Yv91/5r/1f8IABUAEgAMAPf/4v/j/+3/7//0/wAADgAYAB0AHgAaABAA+P/U/8L/zv/Z/8//yf/X/+T/5P/h/+T/7P/z//H/6v/o/+X/6f8EACEAHAANABAADQD+//T/7f/r//n/AgDz/+r/9//8/+//5v/S/6n/kv+d/63/uf/H/8n/xv/T/+X/6v/o/+X/5P/l/+n/+/8eADoANQAXAAAADAAqACYAGAArADYAHwAbACkAGQADAPr/1v+0/8z/9P/8/wQAGwAlAB4ABQDo/+z/DgAlADQAVQB+AKEAwgDaANgAqABjAEYAUABMAEIAUQBkAHMAiACTAH0AUwAzAC0ALQAVAPj/8//8/wQAGQA1ADgAFwAHACoATQA+ACMAKQA6ADUAGQD0/9X/wP+4/8b/4v/n/9H/wf++/7f/q/+w/8r/4P/r////EgALAPv/+//9//T/6f/k/+T/7P/v/+P/1P/B/6L/kf+b/6L/pP+1/8X/y//V/9r/3P/q/+n/zv/U/wEAGAASAAkAAAAAAA0ADwAAAAQAGgAsAEUAZABgAD0AOwBaAFYAKwAAANf/o/92/1z/U/9k/4H/i/+Q/6T/pv+G/3v/k/+c/5L/n/++/9j/7f8CACIAQABEAD8ATwBbAFAARQA5ABsA///9/wAA6f/U/9z/5f/e/+b/7f/V/8f/3v/u/+n/6//2//r/+f/+/w8AJAA3AEYAOwAUAP3/AAD6/+P/3v/v//7/FgBAAFwAVwBTAFkATwA8AC0AFgABAP7//f8FACIANwA6ACsAAQDV/87/zv+x/5z/tv/m/wcAHQA1ADwAJAD+/9j/v//R//n////2/wwAKgA1AEAARQAzACIAKQA2ADEAKgA+AGEAbQBmAGwAeQB8AG8AWQBXAGcAVQAsACkAMgAaAAQAAAD0//b/BgD0/8//yf/W//D/GwAuABkAHABOAHsAgQB0AHYAgwB9AGgAWABGACwAGQAFAOX/y//B/7f/s/+//8//2f/V/7r/o/+v/7//u/+1/7L/p/+j/6L/lf+X/7T/x//T//b/CAD0/+T/4//K/67/vv/d/+X/7f8CAA8ABQDy/+X/5//v/+7/5//k/+v/8//q/9b/0f/S/8L/x//5/yEAKQAoABcA/v/5//D/0f/K/9r/0/++/8D/0P/a/+H/8v8BAAAABAAaAB4AGQAzAEQAJQACAPH/4P/i//7/EwAUAAAA7P/y//v/5v/W/9P/vP+s/8H/2f/n//r/AAAGACgARwBBADUAKgADAN//5P/9/xUANgBaAHQAhAB/AFoAMgAoADIAKAASACEARABAACMAGAAUAAcA+P/h/8n/wv/C/8X/0v/h//D//f/w/9D/zf/n//f//f8IAAgABgAeADsAMgAXABkAMQBCAEAAJQAAAPP/8//m/9r/5f/s/9z/yP/L/93/6v/m/+D/4//l/+n/+f8BAP3/CgAjABcA+/8BABcAGwASAPr/1P+//6//jP93/3T/WP9G/23/mf+u/9X/8P/W/8//+f8JAO7/3v/d/9z/1v/G/7//2v/8/wkAFQAaABoANQBXAFMAQABBAEsAUgBXAFYAWgBlAGQAUgBCAC4AIgA3AEsAMgAPAAAA8P/v/w8AJgAfABgAHwA2AFEAUgA3AB4ACgADABAAFwAQACQATQBeAFoAVwBEACcAEQD0/8z/uP+9/9j/CgAsACIAEQALAPn/8/8GAAUA5P/G/7T/rP+y/6z/k/+X/8P/7f8FABQAEgARACoASgBTAFgAbwB9AHwAewBpAEgAOwA0AB0AEAAUAAwACAAeACsAHQASABUADwAEAAAA8//d/9b/1v/M/8X/vv+e/4T/iv+R/5D/of+7/9H/7/8HAA8AHQAyAEMAUQBLACsAFQANAO7/w/+z/7T/rf+e/4f/d/93/3H/Yf9m/4v/sf+//7T/o/+g/67/yf/o//f/7P/d/9z/5f/2/wEAAwAOACQAJgASAAUAAgAEAAkADQAhAFYAjwCqAKcAnQCSAHwAXABGAEUASwBTAGMAagBbAD4AIQAKAP///f/+/wMAEQAZABMAEwAeABoACQAHAAsABgADAAMA9f/j/+3/BAAJAAYAEgAcABIABwAAAO3/0f+7/6v/o/+U/3//ff+D/3L/Xv9a/1r/af+J/5P/jf+V/5L/ev9u/3j/jP+x/9n/7/8AABUAGwATAAwA+v/l//P/EgAbACoAWgCFAJUAmwCVAH0AZwBXAEkAQQA5ADQAOgBBAD8APQA0AB4AHQBAAG4AiQB/AF0ATABKAC0AAAD0/wcAHAAuAEoAbAB6AHMAdQCDAHQAUABSAGUASwAgACIAMgAqACsARwBbAFsAUgA6ABgABAAFAAYADgAxAGIAdgBkAE0AOwAfAP3/7P/x//z/AgABAPX/2//F/7z/q/+C/1r/Sv9I/1j/jf/E/9D/w//F/9P/2P/U/8r/uv++/+//IwArABkACQD+//r/9v/h/9H/1P/O/7T/nf+V/5b/m/+p/8n/3v/Q/73/u/+1/7H/yv/m/+b/2f/R/9D/0//Q/8b/yP/b/+P/3P/a/9j/x/+3/7z/wf+3/7H/sv+p/5X/g/92/3P/ff+Q/6//1//s/+P/3P/e/9D/xv/S/8z/r/+w/8H/tP+q/8L/0P/L/9f/4//X/9j/9P8AAPz/EwA5ADgAHAAcADQAMQANAPn/EwBDAFMAUABvAKMAtACpAKYAnQCNAKQA3gD+APkA9gDuAMgAmgCBAHIAZABcAFUATgBUAGEAVQAvAB8AMQA9ADkASABgAFoAVAByAI0AhgB1AGkAXgBMADAAJgA5AEAAMAArACAABQAHABoADwD8//j/6f/P/7z/qf+f/6P/p/+q/7b/v//D/8j/wv+x/6r/q/+p/7H/wP+1/5z/qf/Q/9P/vf+3/8D/xv/J/8f/xf+7/5b/a/9n/3v/h/+a/7f/yv/S/9P/0P/a/+r/6//t//3////2//3/AwD3/+z/6f/m/+v/9//9//3//f8FABoAJgAQAO//6v8CACMAQABaAGsAaABbAEkAKQAFAOz/zv+4/8n/5//h/9P/6/8NAA8A/P/2/wYAHQAvAEMAVgBTAEEAOgAzABUA+v8CABcADgD9/wwAMQA/ADMAJAAmADwAUABOAEsAXwBvAFsAOQAeAA4AEgAZAAUA4P/Q/9v/4v/X/8z/1//u/wEAGAAtACsAHAAYABYABADv/+j/5v/f/+f/+f/t/9L/2P/d/7T/kP+W/5T/fv+D/5//qv+d/5D/mf+r/7P/wf/V/8//uP+3/8X/2P/w////AwAIAAIA/v8LABUAFwA1AFkAVwBDAD4ANQAdABEAFQAQAPP/1//T/87/u/+z/7v/t/+y/77/1v/2/w4ADQAMACgAOAArADMAVwB0AJIAqQCVAGkAVgBWAFMARwA4ADQAPgBLAFIATQA4ACwALgAjABwAMgA/ADAAKQAoABYADQAYAB0AFAAGAP3/BwAYAA0A/v8GACAARgB0AIoAiwCRAIIATwAlABcACgABAAMA/f/4/wkAFQAJAAIABgAAAPn/8v/R/7L/uv/A/5//hf+L/4b/dP9z/27/V/9Y/3n/iv90/2H/bf+B/4b/iv+V/5j/l/+b/5v/mf+b/6T/uf/a//X/CQAdACUAHgAXAA0ABgAPABQACwASACsAKwAbABgAEwAEAAwAIwAmABwAEgD///L/AAAFAPH/4//v//3/AAAFABIAHQAtAEAARQBCAFIAZgBZAD8ARQBlAHIAZQBRADsAKQAvADgAKwAiACgAGgAAAAEABADv/97/3//o/wIAKQA5ADAAFwDz/+L/7f/p/9L/1//y/wEACwANAAIAAwAOAP3/2P/E/7P/lf+G/5v/wv/b/+H/4v/g/9T/zP/Q/9P/2P/o//D/6P/o//X/+f/w/+v/+f8MAA8ABAAAAAoAJAAzACQAHQAyADEAGQAkAEcAVQBTAFcAXgBgAFIAPQA0ACcAFQAlAE8AWgBCACkAGQAZACkAKAAOAP7///8AAP3///8CAAMAAAD9//b/4//O/8T/yP/Z/+3/6P/R/9D/4P/e/8v/u/+3/8j/3f/f/+L/+v8FAPL/4f/l/+//+v8GAAsA+f/Z/9X/8f/1/9v/0//a/8r/uv/F/9z/7f8CABoAKQAzADcALAAUAAsAIwBHAF4AZABnAGUAUwA8AC4AIgAXABwAKgAqAB4AEgAFAAAAAAD0/+b/6f/l/9P/yv++/6H/lv+p/7f/vP/K/9T/2v/y/xMALABBAFAATAA3ABkA9f/U/8n/zv/c/+v/8f/o/9b/v/+r/6X/ov+a/5z/sv/F/83/0//J/7b/uv/E/7P/nP+T/47/qf/g//L/7P/9//r/0P/G/+L/7P/z/wsAFgAUAB0AIAAZABoAHwAiAC8APQBCAD8APwBKAFgAWgBbAGQAawBqAGcAZABrAH8AhgCBAIMAiQCXALkAywC2AKUAtQDBAK4AigBfADUAHAAZAB4AHwAcABcAEgAKAP///P/8/+X/vf+r/67/tf/L/+//AAD2/+T/4//x//L/2f+8/7X/wv/L/9D/2//b/8L/q/+p/57/hf+B/43/mP+j/6X/nv+X/4n/g/+d/7j/tv+4/8v/0P/Q/9n/3v/l//b//f/u/9X/vv+5/8f/2P/k/+z/5//e/9//1v+x/4//jf+g/73/2v/h/9j/2v/u/w0AKgA0ADkASgBNADwANAA3ADMAKgAiAB8ALQBHAFYAUQA2ABIAAQD8/+b/yv/B/9H/8/8RAB0AKQA7AEUARQBEAEUAVQB4AIsAdgBVAEwATwA+ACQAJgA5AEUATABPAEsAPwArABQACQAAAPP/8f/7//T/8P8LACYAKQAwAEAAOgArADkAUgBBAB0AJwBYAHQAeQCCAIsAiQCDAGQAKQD7/+//7v/r/+j/3P/I/6//jP9p/1r/Yv9//67/4v8QADUAQAArAAoA8f/d/8z/v/+1/7f/0//w//f/8v/q/87/rP+V/3//a/9u/3n/df9x/3b/hf+a/5z/hP+F/6j/x//b/+b/1//F/9r/+/8KABcAJgA2AEwAVQBAACYAFwAEAOr/0P+//8L/3/8AAA0ADwARAA4ACQALAAkABgAHAAQAAAAHAA8ADAAcADYANwAsADQASwBpAH0AcgBaAFAAQgArACUANAA+ADYAJAAfADAARgBLADUAEwD8//H/7v/1//P/6P/y/wQA+//v/wMAHgAmABYA/P/z//3/9P/h/+r/AAAGABIALQA/AEgAVABSAEEARgBfAF0AQQAzAC8AIwAQAPX/1//X/+f/5v/e/97/3P/W/8v/tf+p/7r/yv/D/8X/4v/8/wEABwANAPn/2f/W/+T/3//X/+X/7P/f/9r/4//n//D/CAAcACAAJwApABMADAAmADIAHwATAAwA6/+9/6r/wP/h/9//v/+r/6v/rv+u/6n/pv+q/6b/nv+w/8z/zv/F/9X/8v8AAP//AAABAPf/7v/8/wwACgACAAgAEgASAAYA/f8BAAgACgAXAC0ALgAZAAsACwAJAAQABgARABsAHgAhACsANQA5ADUAKQAiACIAFwAHAA8AKQBAAEEAHAD2//n/BwABAAEAAgDf/8H/2v/7//f/7v/5/wUAAwD3/+n/4//h/9n/1P/X/9r/4f/w//j/+/8CAPX/zv/C/9X/4f/n/+//6f/b/+T/+v/+//f/+v8DAAwAEgASAAYA/f/9//7//P/9//r/9v8FACIANQA8ADQAGQAIABcALAA3ADkAMQAjABwAFgAMAAcAAAD4//z/9P/X/9b/8//0/97/5P/3//f/+f8WAD4AWABfAFMAOwA0AEEAUABVAEcAKAAeADEAQABCAEIAPAA3AD4APwAuABsAGgAzAF0AdwB1AGoAYQBaAFkAVgA/ACkANAA/ABoA7v/o/+P/yv/P//L/AAAAAPv/2v+z/63/tv+5/8f/1v/K/7n/uP+z/7P/yv/i/+H/1P/Q/9X/4f/k/9f/0//o//3/AAAAAPv/5f/N/8r/zP+5/5v/i/+O/5X/n/+3/8//yf+3/7j/uv+v/7j/2f/p/+f/8/8EAAgA/v/y/+3/5v/b/9r/5P/t//P/7v/f/9v/4v/i/+L/6//y//7/EQAYABkAJwAjAAAA6f/n/83/pf+m/8v/2f/G/8P/1//X/8H/u//J/83/xv/J/9T/5f8HAEMAfwCfAJ8AiABoAFMARgAxAB4AIAA7AF8AbgBlAGYAcgBsAGsAiQCnAKMAkQCNAI4AhgB9AHYAaQBeAE4ALwAhAB8AAwD8/ycAPwBDAF0ASAA=\" type=\"audio/wav\" />\n",
              "                    Your browser does not support the audio element.\n",
              "                </audio>\n",
              "              "
            ],
            "text/plain": [
              "<IPython.lib.display.Audio object>"
            ]
          },
          "metadata": {
            "tags": []
          },
          "execution_count": 6
        }
      ]
    },
    {
      "cell_type": "markdown",
      "metadata": {
        "colab_type": "text",
        "id": "J_9fB9sxJZUE"
      },
      "source": [
        "Extract labels that represent voice comands:"
      ]
    },
    {
      "cell_type": "code",
      "metadata": {
        "colab_type": "code",
        "id": "lX0rksvkIrvz",
        "outputId": "ced80a3b-741c-480f-ed90-c1f786ad6fe8",
        "colab": {
          "base_uri": "https://localhost:8080/",
          "height": 35
        }
      },
      "source": [
        "labels = [d for d in os.listdir(train_path) if os.path.isdir(train_path + os.path.sep + d)]\n",
        "print(labels)"
      ],
      "execution_count": 7,
      "outputs": [
        {
          "output_type": "stream",
          "text": [
            "['no', 'cat', 'dog', 'left', 'right', 'yes']\n"
          ],
          "name": "stdout"
        }
      ]
    },
    {
      "cell_type": "markdown",
      "metadata": {
        "colab_type": "text",
        "id": "y2DSXfp1JyDa"
      },
      "source": [
        "Get number of recordings for each voice command:"
      ]
    },
    {
      "cell_type": "code",
      "metadata": {
        "colab_type": "code",
        "id": "bzB0mrl0J2tr",
        "outputId": "8f37ace8-2448-4539-ab5a-11a3b9913585",
        "colab": {
          "base_uri": "https://localhost:8080/",
          "height": 236
        }
      },
      "source": [
        "train_num_of_recordings_per_label = {}\n",
        "for label in labels:\n",
        "    train_num_of_recordings_per_label[label] = len([f for f in os.listdir(train_path + os.path.sep + label)])\n",
        "print(train_num_of_recordings_per_label)\n",
        "\n",
        "#plot\n",
        "plt.figure(figsize=(5,2))\n",
        "index = np.arange(len(labels))\n",
        "plt.bar(index, train_num_of_recordings_per_label.values())\n",
        "plt.xlabel('Commands', fontsize=12)\n",
        "plt.ylabel('No of recordings', fontsize=12)\n",
        "plt.xticks(index, labels, fontsize=15, rotation=60)\n",
        "plt.title('No. of recordings for each command')\n",
        "plt.show()"
      ],
      "execution_count": 8,
      "outputs": [
        {
          "output_type": "stream",
          "text": [
            "{'no': 154, 'cat': 160, 'dog': 150, 'left': 132, 'right': 126, 'yes': 157}\n"
          ],
          "name": "stdout"
        },
        {
          "output_type": "display_data",
          "data": {
            "image/png": "[encoded data removed]",
            "text/plain": [
              "<Figure size 360x144 with 1 Axes>"
            ]
          },
          "metadata": {
            "tags": []
          }
        }
      ]
    },
    {
      "cell_type": "code",
      "metadata": {
        "colab_type": "code",
        "id": "9Ia7YCzhKiFI",
        "outputId": "3b6f0897-ce60-4aab-8d2e-a3f94aefd2a9",
        "colab": {
          "base_uri": "https://localhost:8080/",
          "height": 236
        }
      },
      "source": [
        "test_num_of_recordings_per_label = {}\n",
        "for label in labels:\n",
        "    test_num_of_recordings_per_label[label] = len([f for f in os.listdir(test_path + os.path.sep + label)])\n",
        "print(test_num_of_recordings_per_label)\n",
        "\n",
        "#plot\n",
        "plt.figure(figsize=(5,2))\n",
        "index = np.arange(len(labels))\n",
        "plt.bar(index, test_num_of_recordings_per_label.values())\n",
        "plt.xlabel('Commands', fontsize=12)\n",
        "plt.ylabel('No of recordings', fontsize=12)\n",
        "plt.xticks(index, labels, fontsize=15, rotation=60)\n",
        "plt.title('No. of recordings for each command')\n",
        "plt.show()"
      ],
      "execution_count": 9,
      "outputs": [
        {
          "output_type": "stream",
          "text": [
            "{'no': 53, 'cat': 50, 'dog': 50, 'left': 43, 'right': 39, 'yes': 58}\n"
          ],
          "name": "stdout"
        },
        {
          "output_type": "display_data",
          "data": {
            "image/png": "[encoded data removed]",
            "text/plain": [
              "<Figure size 360x144 with 1 Axes>"
            ]
          },
          "metadata": {
            "tags": []
          }
        }
      ]
    },
    {
      "cell_type": "markdown",
      "metadata": {
        "colab_type": "text",
        "id": "astBtZTaLn6j"
      },
      "source": [
        "Get distribution of the duration of recordings:"
      ]
    },
    {
      "cell_type": "code",
      "metadata": {
        "colab_type": "code",
        "id": "Ii25wne7Lr73",
        "outputId": "f041c8fc-c708-4a8e-ba4d-834b22367b20",
        "colab": {
          "base_uri": "https://localhost:8080/",
          "height": 336
        }
      },
      "source": [
        "train_duration_of_recordings=[]\n",
        "for label in labels:\n",
        "  recordings = [f for f in os.listdir(train_path + os.path.sep + label) if f.endswith('.wav')]\n",
        "  for record in recordings:\n",
        "    sample_rate, samples = wavfile.read(train_path + os.path.sep + label + os.path.sep + record)\n",
        "    # print(sample_rate)   # 16000\n",
        "    train_duration_of_recordings.append(float(len(samples)/sample_rate))\n",
        "    \n",
        "plt.hist(np.array(train_duration_of_recordings))"
      ],
      "execution_count": 10,
      "outputs": [
        {
          "output_type": "execute_result",
          "data": {
            "text/plain": [
              "(array([  1.,   1.,   4.,   2.,  11.,   6.,   7.,  21.,  16., 810.]),\n",
              " array([0.510875 , 0.5597875, 0.6087   , 0.6576125, 0.706525 , 0.7554375,\n",
              "        0.80435  , 0.8532625, 0.902175 , 0.9510875, 1.       ]),\n",
              " <a list of 10 Patch objects>)"
            ]
          },
          "metadata": {
            "tags": []
          },
          "execution_count": 10
        },
        {
          "output_type": "display_data",
          "data": {
            "image/png": "[encoded data removed]",
            "text/plain": [
              "<Figure size 432x288 with 1 Axes>"
            ]
          },
          "metadata": {
            "tags": []
          }
        }
      ]
    },
    {
      "cell_type": "code",
      "metadata": {
        "colab_type": "code",
        "id": "66Vw5QUGNTU2",
        "outputId": "b2f15f65-acae-4a75-e1c7-d526b246d241",
        "colab": {
          "base_uri": "https://localhost:8080/",
          "height": 336
        }
      },
      "source": [
        "test_duration_of_recordings=[]\n",
        "for label in labels:\n",
        "  recordings = [f for f in os.listdir(test_path + os.path.sep + label) if f.endswith('.wav')]\n",
        "  for record in recordings:\n",
        "    sample_rate, samples = wavfile.read(test_path + os.path.sep + label + os.path.sep + record)\n",
        "    # print(sample_rate)   # 16000\n",
        "    test_duration_of_recordings.append(float(len(samples)/sample_rate))\n",
        "    \n",
        "plt.hist(np.array(test_duration_of_recordings))"
      ],
      "execution_count": 11,
      "outputs": [
        {
          "output_type": "execute_result",
          "data": {
            "text/plain": [
              "(array([  1.,   3.,   0.,   3.,   4.,   3.,   1.,   2.,   4., 272.]),\n",
              " array([0.64 , 0.676, 0.712, 0.748, 0.784, 0.82 , 0.856, 0.892, 0.928,\n",
              "        0.964, 1.   ]),\n",
              " <a list of 10 Patch objects>)"
            ]
          },
          "metadata": {
            "tags": []
          },
          "execution_count": 11
        },
        {
          "output_type": "display_data",
          "data": {
            "image/png": "[encoded data removed]",
            "text/plain": [
              "<Figure size 432x288 with 1 Axes>"
            ]
          },
          "metadata": {
            "tags": []
          }
        }
      ]
    },
    {
      "cell_type": "markdown",
      "metadata": {
        "id": "UVyWlU99YO71",
        "colab_type": "text"
      },
      "source": [
        "# Prepare data for classifiction"
      ]
    },
    {
      "cell_type": "code",
      "metadata": {
        "id": "PBCfh6jIOxNb",
        "colab_type": "code",
        "colab": {
          "base_uri": "https://localhost:8080/",
          "height": 162
        },
        "outputId": "ea46ef4e-dacd-4d08-cba5-9ef1f05accde"
      },
      "source": [
        "# Create arrays of all recordings and corresponding labels. \n",
        "all_recordings = []\n",
        "all_labels = []\n",
        "for label in labels:\n",
        "    print(label)\n",
        "    recordings = [f for f in os.listdir(train_path + os.path.sep + label) if f.endswith('.wav')]\n",
        "    for record in recordings:\n",
        "        samples, sample_rate = librosa.load(train_path + os.path.sep + label + os.path.sep + record, sr = 16000)\n",
        "        # Resample sampling rate to 8000Hz because almost everyone can hear 8,000Hz\n",
        "        samples = librosa.resample(samples, sample_rate, 8000)\n",
        "        if(len(samples)== 8000) : \n",
        "            all_recordings.append(samples)\n",
        "            all_labels.append(label)\n",
        "print(all_labels)"
      ],
      "execution_count": 19,
      "outputs": [
        {
          "output_type": "stream",
          "text": [
            "no\n",
            "cat\n",
            "dog\n",
            "left\n",
            "right\n",
            "yes\n",
            "['no', 'no', 'no', 'no', 'no', 'no', 'no', 'no', 'no', 'no', 'no', 'no', 'no', 'no', 'no', 'no', 'no', 'no', 'no', 'no', 'no', 'no', 'no', 'no', 'no', 'no', 'no', 'no', 'no', 'no', 'no', 'no', 'no', 'no', 'no', 'no', 'no', 'no', 'no', 'no', 'no', 'no', 'no', 'no', 'no', 'no', 'no', 'no', 'no', 'no', 'no', 'no', 'no', 'no', 'no', 'no', 'no', 'no', 'no', 'no', 'no', 'no', 'no', 'no', 'no', 'no', 'no', 'no', 'no', 'no', 'no', 'no', 'no', 'no', 'no', 'no', 'no', 'no', 'no', 'no', 'no', 'no', 'no', 'no', 'no', 'no', 'no', 'no', 'no', 'no', 'no', 'no', 'no', 'no', 'no', 'no', 'no', 'no', 'no', 'no', 'no', 'no', 'no', 'no', 'no', 'no', 'no', 'no', 'no', 'no', 'no', 'no', 'no', 'no', 'no', 'no', 'no', 'no', 'no', 'no', 'no', 'no', 'no', 'no', 'no', 'no', 'no', 'no', 'no', 'no', 'no', 'no', 'no', 'no', 'no', 'cat', 'cat', 'cat', 'cat', 'cat', 'cat', 'cat', 'cat', 'cat', 'cat', 'cat', 'cat', 'cat', 'cat', 'cat', 'cat', 'cat', 'cat', 'cat', 'cat', 'cat', 'cat', 'cat', 'cat', 'cat', 'cat', 'cat', 'cat', 'cat', 'cat', 'cat', 'cat', 'cat', 'cat', 'cat', 'cat', 'cat', 'cat', 'cat', 'cat', 'cat', 'cat', 'cat', 'cat', 'cat', 'cat', 'cat', 'cat', 'cat', 'cat', 'cat', 'cat', 'cat', 'cat', 'cat', 'cat', 'cat', 'cat', 'cat', 'cat', 'cat', 'cat', 'cat', 'cat', 'cat', 'cat', 'cat', 'cat', 'cat', 'cat', 'cat', 'cat', 'cat', 'cat', 'cat', 'cat', 'cat', 'cat', 'cat', 'cat', 'cat', 'cat', 'cat', 'cat', 'cat', 'cat', 'cat', 'cat', 'cat', 'cat', 'cat', 'cat', 'cat', 'cat', 'cat', 'cat', 'cat', 'cat', 'cat', 'cat', 'cat', 'cat', 'cat', 'cat', 'cat', 'cat', 'cat', 'cat', 'cat', 'cat', 'cat', 'cat', 'cat', 'cat', 'cat', 'cat', 'cat', 'cat', 'cat', 'cat', 'cat', 'cat', 'cat', 'cat', 'cat', 'cat', 'cat', 'cat', 'cat', 'cat', 'cat', 'cat', 'cat', 'cat', 'cat', 'cat', 'cat', 'cat', 'cat', 'cat', 'cat', 'cat', 'cat', 'dog', 'dog', 'dog', 'dog', 'dog', 'dog', 'dog', 'dog', 'dog', 'dog', 'dog', 'dog', 'dog', 'dog', 'dog', 'dog', 'dog', 'dog', 'dog', 'dog', 'dog', 'dog', 'dog', 'dog', 'dog', 'dog', 'dog', 'dog', 'dog', 'dog', 'dog', 'dog', 'dog', 'dog', 'dog', 'dog', 'dog', 'dog', 'dog', 'dog', 'dog', 'dog', 'dog', 'dog', 'dog', 'dog', 'dog', 'dog', 'dog', 'dog', 'dog', 'dog', 'dog', 'dog', 'dog', 'dog', 'dog', 'dog', 'dog', 'dog', 'dog', 'dog', 'dog', 'dog', 'dog', 'dog', 'dog', 'dog', 'dog', 'dog', 'dog', 'dog', 'dog', 'dog', 'dog', 'dog', 'dog', 'dog', 'dog', 'dog', 'dog', 'dog', 'dog', 'dog', 'dog', 'dog', 'dog', 'dog', 'dog', 'dog', 'dog', 'dog', 'dog', 'dog', 'dog', 'dog', 'dog', 'dog', 'dog', 'dog', 'dog', 'dog', 'dog', 'dog', 'dog', 'dog', 'dog', 'dog', 'dog', 'dog', 'dog', 'dog', 'dog', 'dog', 'dog', 'dog', 'dog', 'dog', 'dog', 'dog', 'dog', 'dog', 'dog', 'dog', 'dog', 'dog', 'dog', 'dog', 'dog', 'dog', 'dog', 'dog', 'dog', 'left', 'left', 'left', 'left', 'left', 'left', 'left', 'left', 'left', 'left', 'left', 'left', 'left', 'left', 'left', 'left', 'left', 'left', 'left', 'left', 'left', 'left', 'left', 'left', 'left', 'left', 'left', 'left', 'left', 'left', 'left', 'left', 'left', 'left', 'left', 'left', 'left', 'left', 'left', 'left', 'left', 'left', 'left', 'left', 'left', 'left', 'left', 'left', 'left', 'left', 'left', 'left', 'left', 'left', 'left', 'left', 'left', 'left', 'left', 'left', 'left', 'left', 'left', 'left', 'left', 'left', 'left', 'left', 'left', 'left', 'left', 'left', 'left', 'left', 'left', 'left', 'left', 'left', 'left', 'left', 'left', 'left', 'left', 'left', 'left', 'left', 'left', 'left', 'left', 'left', 'left', 'left', 'left', 'left', 'left', 'left', 'left', 'left', 'left', 'left', 'left', 'left', 'left', 'left', 'left', 'left', 'left', 'left', 'left', 'left', 'left', 'left', 'left', 'left', 'left', 'left', 'left', 'left', 'left', 'left', 'left', 'left', 'left', 'left', 'left', 'right', 'right', 'right', 'right', 'right', 'right', 'right', 'right', 'right', 'right', 'right', 'right', 'right', 'right', 'right', 'right', 'right', 'right', 'right', 'right', 'right', 'right', 'right', 'right', 'right', 'right', 'right', 'right', 'right', 'right', 'right', 'right', 'right', 'right', 'right', 'right', 'right', 'right', 'right', 'right', 'right', 'right', 'right', 'right', 'right', 'right', 'right', 'right', 'right', 'right', 'right', 'right', 'right', 'right', 'right', 'right', 'right', 'right', 'right', 'right', 'right', 'right', 'right', 'right', 'right', 'right', 'right', 'right', 'right', 'right', 'right', 'right', 'right', 'right', 'right', 'right', 'right', 'right', 'right', 'right', 'right', 'right', 'right', 'right', 'right', 'right', 'right', 'right', 'right', 'right', 'right', 'right', 'right', 'right', 'right', 'right', 'right', 'right', 'right', 'right', 'right', 'right', 'right', 'right', 'right', 'right', 'right', 'right', 'right', 'right', 'right', 'right', 'right', 'right', 'right', 'right', 'right', 'yes', 'yes', 'yes', 'yes', 'yes', 'yes', 'yes', 'yes', 'yes', 'yes', 'yes', 'yes', 'yes', 'yes', 'yes', 'yes', 'yes', 'yes', 'yes', 'yes', 'yes', 'yes', 'yes', 'yes', 'yes', 'yes', 'yes', 'yes', 'yes', 'yes', 'yes', 'yes', 'yes', 'yes', 'yes', 'yes', 'yes', 'yes', 'yes', 'yes', 'yes', 'yes', 'yes', 'yes', 'yes', 'yes', 'yes', 'yes', 'yes', 'yes', 'yes', 'yes', 'yes', 'yes', 'yes', 'yes', 'yes', 'yes', 'yes', 'yes', 'yes', 'yes', 'yes', 'yes', 'yes', 'yes', 'yes', 'yes', 'yes', 'yes', 'yes', 'yes', 'yes', 'yes', 'yes', 'yes', 'yes', 'yes', 'yes', 'yes', 'yes', 'yes', 'yes', 'yes', 'yes', 'yes', 'yes', 'yes', 'yes', 'yes', 'yes', 'yes', 'yes', 'yes', 'yes', 'yes', 'yes', 'yes', 'yes', 'yes', 'yes', 'yes', 'yes', 'yes', 'yes', 'yes', 'yes', 'yes', 'yes', 'yes', 'yes', 'yes', 'yes', 'yes', 'yes', 'yes', 'yes', 'yes', 'yes', 'yes', 'yes', 'yes', 'yes', 'yes', 'yes', 'yes', 'yes', 'yes', 'yes', 'yes', 'yes', 'yes', 'yes', 'yes', 'yes', 'yes', 'yes', 'yes', 'yes', 'yes', 'yes', 'yes', 'yes', 'yes', 'yes', 'yes']\n"
          ],
          "name": "stdout"
        }
      ]
    },
    {
      "cell_type": "code",
      "metadata": {
        "id": "9M4UVC-BX0Py",
        "colab_type": "code",
        "colab": {
          "base_uri": "https://localhost:8080/",
          "height": 428
        },
        "outputId": "ad3af9df-fbf8-4628-8e89-ac3560c072d1"
      },
      "source": [
        "# Convert the output labels to integer encoded:\n",
        "le = LabelEncoder()\n",
        "y = le.fit_transform(all_labels)\n",
        "print(y)\n",
        "classes= list(le.classes_)\n",
        "print(classes)"
      ],
      "execution_count": 21,
      "outputs": [
        {
          "output_type": "stream",
          "text": [
            "[3 3 3 3 3 3 3 3 3 3 3 3 3 3 3 3 3 3 3 3 3 3 3 3 3 3 3 3 3 3 3 3 3 3 3 3 3\n",
            " 3 3 3 3 3 3 3 3 3 3 3 3 3 3 3 3 3 3 3 3 3 3 3 3 3 3 3 3 3 3 3 3 3 3 3 3 3\n",
            " 3 3 3 3 3 3 3 3 3 3 3 3 3 3 3 3 3 3 3 3 3 3 3 3 3 3 3 3 3 3 3 3 3 3 3 3 3\n",
            " 3 3 3 3 3 3 3 3 3 3 3 3 3 3 3 3 3 3 3 3 3 3 3 3 0 0 0 0 0 0 0 0 0 0 0 0 0\n",
            " 0 0 0 0 0 0 0 0 0 0 0 0 0 0 0 0 0 0 0 0 0 0 0 0 0 0 0 0 0 0 0 0 0 0 0 0 0\n",
            " 0 0 0 0 0 0 0 0 0 0 0 0 0 0 0 0 0 0 0 0 0 0 0 0 0 0 0 0 0 0 0 0 0 0 0 0 0\n",
            " 0 0 0 0 0 0 0 0 0 0 0 0 0 0 0 0 0 0 0 0 0 0 0 0 0 0 0 0 0 0 0 0 0 0 0 0 0\n",
            " 0 0 0 0 0 0 0 0 0 0 0 0 0 0 0 0 0 0 0 1 1 1 1 1 1 1 1 1 1 1 1 1 1 1 1 1 1\n",
            " 1 1 1 1 1 1 1 1 1 1 1 1 1 1 1 1 1 1 1 1 1 1 1 1 1 1 1 1 1 1 1 1 1 1 1 1 1\n",
            " 1 1 1 1 1 1 1 1 1 1 1 1 1 1 1 1 1 1 1 1 1 1 1 1 1 1 1 1 1 1 1 1 1 1 1 1 1\n",
            " 1 1 1 1 1 1 1 1 1 1 1 1 1 1 1 1 1 1 1 1 1 1 1 1 1 1 1 1 1 1 1 1 1 1 1 1 1\n",
            " 1 1 1 1 2 2 2 2 2 2 2 2 2 2 2 2 2 2 2 2 2 2 2 2 2 2 2 2 2 2 2 2 2 2 2 2 2\n",
            " 2 2 2 2 2 2 2 2 2 2 2 2 2 2 2 2 2 2 2 2 2 2 2 2 2 2 2 2 2 2 2 2 2 2 2 2 2\n",
            " 2 2 2 2 2 2 2 2 2 2 2 2 2 2 2 2 2 2 2 2 2 2 2 2 2 2 2 2 2 2 2 2 2 2 2 2 2\n",
            " 2 2 2 2 2 2 2 2 2 2 2 2 2 2 2 2 2 2 4 4 4 4 4 4 4 4 4 4 4 4 4 4 4 4 4 4 4\n",
            " 4 4 4 4 4 4 4 4 4 4 4 4 4 4 4 4 4 4 4 4 4 4 4 4 4 4 4 4 4 4 4 4 4 4 4 4 4\n",
            " 4 4 4 4 4 4 4 4 4 4 4 4 4 4 4 4 4 4 4 4 4 4 4 4 4 4 4 4 4 4 4 4 4 4 4 4 4\n",
            " 4 4 4 4 4 4 4 4 4 4 4 4 4 4 4 4 4 4 4 4 4 4 4 4 5 5 5 5 5 5 5 5 5 5 5 5 5\n",
            " 5 5 5 5 5 5 5 5 5 5 5 5 5 5 5 5 5 5 5 5 5 5 5 5 5 5 5 5 5 5 5 5 5 5 5 5 5\n",
            " 5 5 5 5 5 5 5 5 5 5 5 5 5 5 5 5 5 5 5 5 5 5 5 5 5 5 5 5 5 5 5 5 5 5 5 5 5\n",
            " 5 5 5 5 5 5 5 5 5 5 5 5 5 5 5 5 5 5 5 5 5 5 5 5 5 5 5 5 5 5 5 5 5 5 5 5 5\n",
            " 5 5 5 5 5 5 5 5 5 5 5 5 5 5 5 5 5 5 5 5 5 5]\n",
            "['cat', 'dog', 'left', 'no', 'right', 'yes']\n"
          ],
          "name": "stdout"
        }
      ]
    },
    {
      "cell_type": "code",
      "metadata": {
        "id": "V2r-D-isZuzm",
        "colab_type": "code",
        "colab": {
          "base_uri": "https://localhost:8080/",
          "height": 142
        },
        "outputId": "0d31dc51-3eef-403e-cb61-3a182f1da94b"
      },
      "source": [
        "# convert the integer encoded labels to a one-hot vector since it is a multi-classification problem:\n",
        "y = to_categorical(y, num_classes=len(labels))\n",
        "print(y)"
      ],
      "execution_count": 23,
      "outputs": [
        {
          "output_type": "stream",
          "text": [
            "[[0. 0. 0. 1. 0. 0.]\n",
            " [0. 0. 0. 1. 0. 0.]\n",
            " [0. 0. 0. 1. 0. 0.]\n",
            " ...\n",
            " [0. 0. 0. 0. 0. 1.]\n",
            " [0. 0. 0. 0. 0. 1.]\n",
            " [0. 0. 0. 0. 0. 1.]]\n"
          ],
          "name": "stdout"
        }
      ]
    },
    {
      "cell_type": "code",
      "metadata": {
        "id": "7JD4jFUCai2S",
        "colab_type": "code",
        "colab": {
          "base_uri": "https://localhost:8080/",
          "height": 35
        },
        "outputId": "9fad6ad9-d2fa-44ab-8752-873240891895"
      },
      "source": [
        "# Reshape the 2D array to 3D since the input to the conv1d must be a 3D array:\n",
        "all_recordings = np.array(all_recordings).reshape(-1,8000,1)\n",
        "print(all_recordings.shape)"
      ],
      "execution_count": 25,
      "outputs": [
        {
          "output_type": "stream",
          "text": [
            "(799, 8000, 1)\n"
          ],
          "name": "stdout"
        }
      ]
    },
    {
      "cell_type": "markdown",
      "metadata": {
        "id": "V_N_ObRwa3xz",
        "colab_type": "text"
      },
      "source": [
        "Split into train and validation set:"
      ]
    },
    {
      "cell_type": "code",
      "metadata": {
        "id": "k4E5I92ma6Ex",
        "colab_type": "code",
        "colab": {}
      },
      "source": [
        "x_tr, x_val, y_tr, y_val = train_test_split(np.array(all_recordings), np.array(y), stratify = y, \n",
        "                                            test_size = 0.2, random_state = 777, shuffle=True)"
      ],
      "execution_count": 0,
      "outputs": []
    },
    {
      "cell_type": "markdown",
      "metadata": {
        "id": "NppE-qLsrNyU",
        "colab_type": "text"
      },
      "source": [
        "# Create model"
      ]
    },
    {
      "cell_type": "code",
      "metadata": {
        "id": "SXbdbfeurSKQ",
        "colab_type": "code",
        "colab": {
          "base_uri": "https://localhost:8080/",
          "height": 839
        },
        "outputId": "a86962a7-cfb2-437d-9e57-aca5adb3e79e"
      },
      "source": [
        "inputs = Input(shape=(8000,1))\n",
        "\n",
        "#First Conv1D layer\n",
        "conv = Conv1D(8,13, padding='valid', activation='relu', strides=1)(inputs)\n",
        "conv = MaxPooling1D(3)(conv)\n",
        "conv = Dropout(0.3)(conv)\n",
        "\n",
        "#Second Conv1D layer\n",
        "conv = Conv1D(16, 11, padding='valid', activation='relu', strides=1)(conv)\n",
        "conv = MaxPooling1D(3)(conv)\n",
        "conv = Dropout(0.3)(conv)\n",
        "\n",
        "#Third Conv1D layer\n",
        "conv = Conv1D(32, 9, padding='valid', activation='relu', strides=1)(conv)\n",
        "conv = MaxPooling1D(3)(conv)\n",
        "conv = Dropout(0.3)(conv)\n",
        "\n",
        "#Fourth Conv1D layer\n",
        "conv = Conv1D(64, 7, padding='valid', activation='relu', strides=1)(conv)\n",
        "conv = MaxPooling1D(3)(conv)\n",
        "conv = Dropout(0.3)(conv)\n",
        "\n",
        "#Flatten layer\n",
        "conv = Flatten()(conv)\n",
        "\n",
        "#Dense Layer 1\n",
        "conv = Dense(256, activation='relu')(conv)\n",
        "conv = Dropout(0.3)(conv)\n",
        "\n",
        "#Dense Layer 2\n",
        "conv = Dense(128, activation='relu')(conv)\n",
        "conv = Dropout(0.3)(conv)\n",
        "\n",
        "outputs = Dense(len(labels), activation='softmax')(conv)\n",
        "\n",
        "model = Model(inputs, outputs)\n",
        "model.summary()"
      ],
      "execution_count": 41,
      "outputs": [
        {
          "output_type": "stream",
          "text": [
            "Model: \"model\"\n",
            "_________________________________________________________________\n",
            "Layer (type)                 Output Shape              Param #   \n",
            "=================================================================\n",
            "input_1 (InputLayer)         [(None, 8000, 1)]         0         \n",
            "_________________________________________________________________\n",
            "conv1d_4 (Conv1D)            (None, 7988, 8)           112       \n",
            "_________________________________________________________________\n",
            "max_pooling1d_4 (MaxPooling1 (None, 2662, 8)           0         \n",
            "_________________________________________________________________\n",
            "dropout_6 (Dropout)          (None, 2662, 8)           0         \n",
            "_________________________________________________________________\n",
            "conv1d_5 (Conv1D)            (None, 2652, 16)          1424      \n",
            "_________________________________________________________________\n",
            "max_pooling1d_5 (MaxPooling1 (None, 884, 16)           0         \n",
            "_________________________________________________________________\n",
            "dropout_7 (Dropout)          (None, 884, 16)           0         \n",
            "_________________________________________________________________\n",
            "conv1d_6 (Conv1D)            (None, 876, 32)           4640      \n",
            "_________________________________________________________________\n",
            "max_pooling1d_6 (MaxPooling1 (None, 292, 32)           0         \n",
            "_________________________________________________________________\n",
            "dropout_8 (Dropout)          (None, 292, 32)           0         \n",
            "_________________________________________________________________\n",
            "conv1d_7 (Conv1D)            (None, 286, 64)           14400     \n",
            "_________________________________________________________________\n",
            "max_pooling1d_7 (MaxPooling1 (None, 95, 64)            0         \n",
            "_________________________________________________________________\n",
            "dropout_9 (Dropout)          (None, 95, 64)            0         \n",
            "_________________________________________________________________\n",
            "flatten_1 (Flatten)          (None, 6080)              0         \n",
            "_________________________________________________________________\n",
            "dense_3 (Dense)              (None, 256)               1556736   \n",
            "_________________________________________________________________\n",
            "dropout_10 (Dropout)         (None, 256)               0         \n",
            "_________________________________________________________________\n",
            "dense_4 (Dense)              (None, 128)               32896     \n",
            "_________________________________________________________________\n",
            "dropout_11 (Dropout)         (None, 128)               0         \n",
            "_________________________________________________________________\n",
            "dense_5 (Dense)              (None, 6)                 774       \n",
            "=================================================================\n",
            "Total params: 1,610,982\n",
            "Trainable params: 1,610,982\n",
            "Non-trainable params: 0\n",
            "_________________________________________________________________\n"
          ],
          "name": "stdout"
        }
      ]
    },
    {
      "cell_type": "code",
      "metadata": {
        "id": "GSO4zocxwf54",
        "colab_type": "code",
        "colab": {}
      },
      "source": [
        "model.compile(loss='categorical_crossentropy', optimizer='adam', metrics=['accuracy'])"
      ],
      "execution_count": 0,
      "outputs": []
    },
    {
      "cell_type": "code",
      "metadata": {
        "id": "DQ80yIDIxBCW",
        "colab_type": "code",
        "colab": {}
      },
      "source": [
        "es = EarlyStopping(monitor='val_loss', mode='min', verbose=1, patience=20, min_delta=0.0001) \n",
        "mc = ModelCheckpoint('best_model.hdf5', monitor='val_acc', verbose=1, save_best_only=True, mode='max')"
      ],
      "execution_count": 0,
      "outputs": []
    },
    {
      "cell_type": "code",
      "metadata": {
        "id": "HLJBl0XnxDcW",
        "colab_type": "code",
        "colab": {
          "base_uri": "https://localhost:8080/",
          "height": 1000
        },
        "outputId": "4a93b2e6-e6b2-487f-b093-06c60abc2cda"
      },
      "source": [
        "history=model.fit(x_tr, y_tr ,epochs=100, callbacks=[es,mc], batch_size=32, validation_data=(x_val,y_val))"
      ],
      "execution_count": 44,
      "outputs": [
        {
          "output_type": "stream",
          "text": [
            "Train on 639 samples, validate on 160 samples\n",
            "Epoch 1/100\n",
            "608/639 [===========================>..] - ETA: 0s - loss: 1.7896 - acc: 0.1645\n",
            "Epoch 00001: val_acc improved from -inf to 0.25000, saving model to best_model.hdf5\n",
            "639/639 [==============================] - 6s 9ms/sample - loss: 1.7892 - acc: 0.1674 - val_loss: 1.7835 - val_acc: 0.2500\n",
            "Epoch 2/100\n",
            "608/639 [===========================>..] - ETA: 0s - loss: 1.7614 - acc: 0.2188\n",
            "Epoch 00002: val_acc improved from 0.25000 to 0.25625, saving model to best_model.hdf5\n",
            "639/639 [==============================] - 5s 8ms/sample - loss: 1.7645 - acc: 0.2128 - val_loss: 1.7718 - val_acc: 0.2562\n",
            "Epoch 3/100\n",
            "608/639 [===========================>..] - ETA: 0s - loss: 1.7450 - acc: 0.2500\n",
            "Epoch 00003: val_acc did not improve from 0.25625\n",
            "639/639 [==============================] - 5s 7ms/sample - loss: 1.7409 - acc: 0.2504 - val_loss: 1.7575 - val_acc: 0.2375\n",
            "Epoch 4/100\n",
            "608/639 [===========================>..] - ETA: 0s - loss: 1.7321 - acc: 0.2615\n",
            "Epoch 00004: val_acc improved from 0.25625 to 0.27500, saving model to best_model.hdf5\n",
            "639/639 [==============================] - 5s 8ms/sample - loss: 1.7266 - acc: 0.2676 - val_loss: 1.7522 - val_acc: 0.2750\n",
            "Epoch 5/100\n",
            "608/639 [===========================>..] - ETA: 0s - loss: 1.7065 - acc: 0.2812\n",
            "Epoch 00005: val_acc did not improve from 0.27500\n",
            "639/639 [==============================] - 5s 7ms/sample - loss: 1.7075 - acc: 0.2817 - val_loss: 1.7428 - val_acc: 0.2625\n",
            "Epoch 6/100\n",
            "608/639 [===========================>..] - ETA: 0s - loss: 1.6487 - acc: 0.3076\n",
            "Epoch 00006: val_acc improved from 0.27500 to 0.33125, saving model to best_model.hdf5\n",
            "639/639 [==============================] - 5s 8ms/sample - loss: 1.6570 - acc: 0.3020 - val_loss: 1.6346 - val_acc: 0.3313\n",
            "Epoch 7/100\n",
            "608/639 [===========================>..] - ETA: 0s - loss: 1.5975 - acc: 0.3339\n",
            "Epoch 00007: val_acc improved from 0.33125 to 0.34375, saving model to best_model.hdf5\n",
            "639/639 [==============================] - 5s 8ms/sample - loss: 1.6125 - acc: 0.3302 - val_loss: 1.5939 - val_acc: 0.3438\n",
            "Epoch 8/100\n",
            "608/639 [===========================>..] - ETA: 0s - loss: 1.5570 - acc: 0.3553\n",
            "Epoch 00008: val_acc did not improve from 0.34375\n",
            "639/639 [==============================] - 5s 7ms/sample - loss: 1.5540 - acc: 0.3552 - val_loss: 1.5657 - val_acc: 0.3438\n",
            "Epoch 9/100\n",
            "608/639 [===========================>..] - ETA: 0s - loss: 1.5059 - acc: 0.3750\n",
            "Epoch 00009: val_acc improved from 0.34375 to 0.35000, saving model to best_model.hdf5\n",
            "639/639 [==============================] - 5s 8ms/sample - loss: 1.4955 - acc: 0.3850 - val_loss: 1.5923 - val_acc: 0.3500\n",
            "Epoch 10/100\n",
            "608/639 [===========================>..] - ETA: 0s - loss: 1.3981 - acc: 0.4260\n",
            "Epoch 00010: val_acc improved from 0.35000 to 0.36250, saving model to best_model.hdf5\n",
            "639/639 [==============================] - 5s 7ms/sample - loss: 1.4091 - acc: 0.4178 - val_loss: 1.4883 - val_acc: 0.3625\n",
            "Epoch 11/100\n",
            "608/639 [===========================>..] - ETA: 0s - loss: 1.4267 - acc: 0.4046\n",
            "Epoch 00011: val_acc improved from 0.36250 to 0.38750, saving model to best_model.hdf5\n",
            "639/639 [==============================] - 5s 8ms/sample - loss: 1.4280 - acc: 0.4038 - val_loss: 1.4980 - val_acc: 0.3875\n",
            "Epoch 12/100\n",
            "608/639 [===========================>..] - ETA: 0s - loss: 1.3797 - acc: 0.4243\n",
            "Epoch 00012: val_acc improved from 0.38750 to 0.44375, saving model to best_model.hdf5\n",
            "639/639 [==============================] - 5s 7ms/sample - loss: 1.3822 - acc: 0.4225 - val_loss: 1.4370 - val_acc: 0.4437\n",
            "Epoch 13/100\n",
            "608/639 [===========================>..] - ETA: 0s - loss: 1.3360 - acc: 0.4737\n",
            "Epoch 00013: val_acc improved from 0.44375 to 0.48125, saving model to best_model.hdf5\n",
            "639/639 [==============================] - 5s 8ms/sample - loss: 1.3271 - acc: 0.4742 - val_loss: 1.3731 - val_acc: 0.4812\n",
            "Epoch 14/100\n",
            "608/639 [===========================>..] - ETA: 0s - loss: 1.2288 - acc: 0.5016\n",
            "Epoch 00014: val_acc did not improve from 0.48125\n",
            "639/639 [==============================] - 5s 8ms/sample - loss: 1.2296 - acc: 0.5023 - val_loss: 1.4506 - val_acc: 0.3938\n",
            "Epoch 15/100\n",
            "608/639 [===========================>..] - ETA: 0s - loss: 1.1870 - acc: 0.5230\n",
            "Epoch 00015: val_acc did not improve from 0.48125\n",
            "639/639 [==============================] - 5s 8ms/sample - loss: 1.1815 - acc: 0.5290 - val_loss: 1.3648 - val_acc: 0.4750\n",
            "Epoch 16/100\n",
            "608/639 [===========================>..] - ETA: 0s - loss: 1.1191 - acc: 0.5378\n",
            "Epoch 00016: val_acc improved from 0.48125 to 0.50000, saving model to best_model.hdf5\n",
            "639/639 [==============================] - 5s 8ms/sample - loss: 1.1313 - acc: 0.5290 - val_loss: 1.3257 - val_acc: 0.5000\n",
            "Epoch 17/100\n",
            "608/639 [===========================>..] - ETA: 0s - loss: 1.1476 - acc: 0.5740\n",
            "Epoch 00017: val_acc did not improve from 0.50000\n",
            "639/639 [==============================] - 5s 8ms/sample - loss: 1.1528 - acc: 0.5728 - val_loss: 1.3358 - val_acc: 0.4688\n",
            "Epoch 18/100\n",
            "608/639 [===========================>..] - ETA: 0s - loss: 1.0902 - acc: 0.5921\n",
            "Epoch 00018: val_acc improved from 0.50000 to 0.52500, saving model to best_model.hdf5\n",
            "639/639 [==============================] - 5s 8ms/sample - loss: 1.0969 - acc: 0.5900 - val_loss: 1.2334 - val_acc: 0.5250\n",
            "Epoch 19/100\n",
            "608/639 [===========================>..] - ETA: 0s - loss: 1.0285 - acc: 0.5822\n",
            "Epoch 00019: val_acc did not improve from 0.52500\n",
            "639/639 [==============================] - 5s 7ms/sample - loss: 1.0375 - acc: 0.5806 - val_loss: 1.2612 - val_acc: 0.5125\n",
            "Epoch 20/100\n",
            "608/639 [===========================>..] - ETA: 0s - loss: 1.0591 - acc: 0.5905\n",
            "Epoch 00020: val_acc did not improve from 0.52500\n",
            "639/639 [==============================] - 5s 8ms/sample - loss: 1.0610 - acc: 0.5837 - val_loss: 1.3527 - val_acc: 0.4500\n",
            "Epoch 21/100\n",
            "608/639 [===========================>..] - ETA: 0s - loss: 0.9487 - acc: 0.6201\n",
            "Epoch 00021: val_acc did not improve from 0.52500\n",
            "639/639 [==============================] - 5s 7ms/sample - loss: 0.9603 - acc: 0.6166 - val_loss: 1.2202 - val_acc: 0.5063\n",
            "Epoch 22/100\n",
            "608/639 [===========================>..] - ETA: 0s - loss: 0.9289 - acc: 0.6365\n",
            "Epoch 00022: val_acc improved from 0.52500 to 0.55000, saving model to best_model.hdf5\n",
            "639/639 [==============================] - 5s 8ms/sample - loss: 0.9145 - acc: 0.6416 - val_loss: 1.1836 - val_acc: 0.5500\n",
            "Epoch 23/100\n",
            "608/639 [===========================>..] - ETA: 0s - loss: 0.8386 - acc: 0.6546\n",
            "Epoch 00023: val_acc improved from 0.55000 to 0.55625, saving model to best_model.hdf5\n",
            "639/639 [==============================] - 5s 8ms/sample - loss: 0.8456 - acc: 0.6495 - val_loss: 1.2117 - val_acc: 0.5562\n",
            "Epoch 24/100\n",
            "608/639 [===========================>..] - ETA: 0s - loss: 0.8881 - acc: 0.6546\n",
            "Epoch 00024: val_acc improved from 0.55625 to 0.56250, saving model to best_model.hdf5\n",
            "639/639 [==============================] - 5s 8ms/sample - loss: 0.8924 - acc: 0.6541 - val_loss: 1.1207 - val_acc: 0.5625\n",
            "Epoch 25/100\n",
            "608/639 [===========================>..] - ETA: 0s - loss: 0.8002 - acc: 0.6875\n",
            "Epoch 00025: val_acc did not improve from 0.56250\n",
            "639/639 [==============================] - 5s 7ms/sample - loss: 0.8107 - acc: 0.6886 - val_loss: 1.2948 - val_acc: 0.4875\n",
            "Epoch 26/100\n",
            "608/639 [===========================>..] - ETA: 0s - loss: 0.7955 - acc: 0.7007\n",
            "Epoch 00026: val_acc did not improve from 0.56250\n",
            "639/639 [==============================] - 5s 8ms/sample - loss: 0.7984 - acc: 0.6980 - val_loss: 1.2601 - val_acc: 0.5437\n",
            "Epoch 27/100\n",
            "608/639 [===========================>..] - ETA: 0s - loss: 0.7925 - acc: 0.6743\n",
            "Epoch 00027: val_acc did not improve from 0.56250\n",
            "639/639 [==============================] - 5s 7ms/sample - loss: 0.7915 - acc: 0.6761 - val_loss: 1.1047 - val_acc: 0.5500\n",
            "Epoch 28/100\n",
            "608/639 [===========================>..] - ETA: 0s - loss: 0.7235 - acc: 0.7286\n",
            "Epoch 00028: val_acc did not improve from 0.56250\n",
            "639/639 [==============================] - 5s 8ms/sample - loss: 0.7230 - acc: 0.7246 - val_loss: 1.0602 - val_acc: 0.5562\n",
            "Epoch 29/100\n",
            "608/639 [===========================>..] - ETA: 0s - loss: 0.6914 - acc: 0.7122\n",
            "Epoch 00029: val_acc improved from 0.56250 to 0.60625, saving model to best_model.hdf5\n",
            "639/639 [==============================] - 5s 8ms/sample - loss: 0.6904 - acc: 0.7105 - val_loss: 1.0719 - val_acc: 0.6062\n",
            "Epoch 30/100\n",
            "608/639 [===========================>..] - ETA: 0s - loss: 0.6504 - acc: 0.7385\n",
            "Epoch 00030: val_acc improved from 0.60625 to 0.61250, saving model to best_model.hdf5\n",
            "639/639 [==============================] - 5s 8ms/sample - loss: 0.6575 - acc: 0.7324 - val_loss: 1.0350 - val_acc: 0.6125\n",
            "Epoch 31/100\n",
            "608/639 [===========================>..] - ETA: 0s - loss: 0.6288 - acc: 0.7582\n",
            "Epoch 00031: val_acc did not improve from 0.61250\n",
            "639/639 [==============================] - 5s 8ms/sample - loss: 0.6265 - acc: 0.7606 - val_loss: 1.0829 - val_acc: 0.5875\n",
            "Epoch 32/100\n",
            "608/639 [===========================>..] - ETA: 0s - loss: 0.5832 - acc: 0.7599\n",
            "Epoch 00032: val_acc improved from 0.61250 to 0.65000, saving model to best_model.hdf5\n",
            "639/639 [==============================] - 5s 8ms/sample - loss: 0.6073 - acc: 0.7574 - val_loss: 0.9840 - val_acc: 0.6500\n",
            "Epoch 33/100\n",
            "608/639 [===========================>..] - ETA: 0s - loss: 0.5655 - acc: 0.7697\n",
            "Epoch 00033: val_acc did not improve from 0.65000\n",
            "639/639 [==============================] - 5s 8ms/sample - loss: 0.5733 - acc: 0.7668 - val_loss: 1.0676 - val_acc: 0.6438\n",
            "Epoch 34/100\n",
            "608/639 [===========================>..] - ETA: 0s - loss: 0.5640 - acc: 0.7812\n",
            "Epoch 00034: val_acc did not improve from 0.65000\n",
            "639/639 [==============================] - 5s 8ms/sample - loss: 0.5662 - acc: 0.7809 - val_loss: 1.0159 - val_acc: 0.6500\n",
            "Epoch 35/100\n",
            "608/639 [===========================>..] - ETA: 0s - loss: 0.5696 - acc: 0.7730\n",
            "Epoch 00035: val_acc improved from 0.65000 to 0.68125, saving model to best_model.hdf5\n",
            "639/639 [==============================] - 5s 8ms/sample - loss: 0.5695 - acc: 0.7684 - val_loss: 0.8874 - val_acc: 0.6812\n",
            "Epoch 36/100\n",
            "608/639 [===========================>..] - ETA: 0s - loss: 0.5539 - acc: 0.7829\n",
            "Epoch 00036: val_acc did not improve from 0.68125\n",
            "639/639 [==============================] - 5s 8ms/sample - loss: 0.5517 - acc: 0.7872 - val_loss: 1.0422 - val_acc: 0.6375\n",
            "Epoch 37/100\n",
            "608/639 [===========================>..] - ETA: 0s - loss: 0.5884 - acc: 0.7796\n",
            "Epoch 00037: val_acc did not improve from 0.68125\n",
            "639/639 [==============================] - 5s 7ms/sample - loss: 0.5890 - acc: 0.7793 - val_loss: 0.9338 - val_acc: 0.6500\n",
            "Epoch 38/100\n",
            "608/639 [===========================>..] - ETA: 0s - loss: 0.5746 - acc: 0.7895\n",
            "Epoch 00038: val_acc did not improve from 0.68125\n",
            "639/639 [==============================] - 5s 8ms/sample - loss: 0.5800 - acc: 0.7856 - val_loss: 0.9286 - val_acc: 0.6562\n",
            "Epoch 39/100\n",
            "608/639 [===========================>..] - ETA: 0s - loss: 0.4747 - acc: 0.8174\n",
            "Epoch 00039: val_acc improved from 0.68125 to 0.71875, saving model to best_model.hdf5\n",
            "639/639 [==============================] - 5s 8ms/sample - loss: 0.4645 - acc: 0.8200 - val_loss: 0.8720 - val_acc: 0.7188\n",
            "Epoch 40/100\n",
            "608/639 [===========================>..] - ETA: 0s - loss: 0.4268 - acc: 0.8586\n",
            "Epoch 00040: val_acc did not improve from 0.71875\n",
            "639/639 [==============================] - 5s 8ms/sample - loss: 0.4395 - acc: 0.8545 - val_loss: 0.9779 - val_acc: 0.6625\n",
            "Epoch 41/100\n",
            "608/639 [===========================>..] - ETA: 0s - loss: 0.4009 - acc: 0.8487\n",
            "Epoch 00041: val_acc did not improve from 0.71875\n",
            "639/639 [==============================] - 5s 7ms/sample - loss: 0.4169 - acc: 0.8435 - val_loss: 0.9521 - val_acc: 0.7188\n",
            "Epoch 42/100\n",
            "608/639 [===========================>..] - ETA: 0s - loss: 0.4433 - acc: 0.8372\n",
            "Epoch 00042: val_acc did not improve from 0.71875\n",
            "639/639 [==============================] - 5s 8ms/sample - loss: 0.4471 - acc: 0.8388 - val_loss: 0.9048 - val_acc: 0.6875\n",
            "Epoch 43/100\n",
            "608/639 [===========================>..] - ETA: 0s - loss: 0.3854 - acc: 0.8536\n",
            "Epoch 00043: val_acc did not improve from 0.71875\n",
            "639/639 [==============================] - 5s 7ms/sample - loss: 0.3900 - acc: 0.8529 - val_loss: 0.8067 - val_acc: 0.7125\n",
            "Epoch 44/100\n",
            "608/639 [===========================>..] - ETA: 0s - loss: 0.3391 - acc: 0.8684\n",
            "Epoch 00044: val_acc did not improve from 0.71875\n",
            "639/639 [==============================] - 5s 7ms/sample - loss: 0.3301 - acc: 0.8732 - val_loss: 0.9262 - val_acc: 0.6750\n",
            "Epoch 45/100\n",
            "608/639 [===========================>..] - ETA: 0s - loss: 0.3300 - acc: 0.8734\n",
            "Epoch 00045: val_acc did not improve from 0.71875\n",
            "639/639 [==============================] - 5s 8ms/sample - loss: 0.3295 - acc: 0.8764 - val_loss: 0.9140 - val_acc: 0.6875\n",
            "Epoch 46/100\n",
            "608/639 [===========================>..] - ETA: 0s - loss: 0.4139 - acc: 0.8553\n",
            "Epoch 00046: val_acc did not improve from 0.71875\n",
            "639/639 [==============================] - 5s 8ms/sample - loss: 0.4245 - acc: 0.8513 - val_loss: 1.0454 - val_acc: 0.6625\n",
            "Epoch 47/100\n",
            "608/639 [===========================>..] - ETA: 0s - loss: 0.3417 - acc: 0.8849\n",
            "Epoch 00047: val_acc did not improve from 0.71875\n",
            "639/639 [==============================] - 5s 8ms/sample - loss: 0.3550 - acc: 0.8811 - val_loss: 0.9264 - val_acc: 0.6812\n",
            "Epoch 48/100\n",
            "608/639 [===========================>..] - ETA: 0s - loss: 0.3360 - acc: 0.8832\n",
            "Epoch 00048: val_acc did not improve from 0.71875\n",
            "639/639 [==============================] - 5s 8ms/sample - loss: 0.3305 - acc: 0.8826 - val_loss: 0.9435 - val_acc: 0.7125\n",
            "Epoch 49/100\n",
            "608/639 [===========================>..] - ETA: 0s - loss: 0.2664 - acc: 0.9046\n",
            "Epoch 00049: val_acc improved from 0.71875 to 0.73750, saving model to best_model.hdf5\n",
            "639/639 [==============================] - 5s 8ms/sample - loss: 0.2627 - acc: 0.9077 - val_loss: 0.9011 - val_acc: 0.7375\n",
            "Epoch 50/100\n",
            "608/639 [===========================>..] - ETA: 0s - loss: 0.2220 - acc: 0.9309\n",
            "Epoch 00050: val_acc did not improve from 0.73750\n",
            "639/639 [==============================] - 5s 8ms/sample - loss: 0.2178 - acc: 0.9311 - val_loss: 0.9802 - val_acc: 0.7125\n",
            "Epoch 51/100\n",
            "608/639 [===========================>..] - ETA: 0s - loss: 0.2661 - acc: 0.8997\n",
            "Epoch 00051: val_acc did not improve from 0.73750\n",
            "639/639 [==============================] - 5s 8ms/sample - loss: 0.2608 - acc: 0.9030 - val_loss: 0.9523 - val_acc: 0.7125\n",
            "Epoch 52/100\n",
            "608/639 [===========================>..] - ETA: 0s - loss: 0.2155 - acc: 0.9211\n",
            "Epoch 00052: val_acc did not improve from 0.73750\n",
            "639/639 [==============================] - 5s 7ms/sample - loss: 0.2149 - acc: 0.9218 - val_loss: 0.9388 - val_acc: 0.7375\n",
            "Epoch 53/100\n",
            "608/639 [===========================>..] - ETA: 0s - loss: 0.2126 - acc: 0.9359\n",
            "Epoch 00053: val_acc did not improve from 0.73750\n",
            "639/639 [==============================] - 5s 8ms/sample - loss: 0.2109 - acc: 0.9358 - val_loss: 1.0146 - val_acc: 0.6875\n",
            "Epoch 54/100\n",
            "608/639 [===========================>..] - ETA: 0s - loss: 0.1738 - acc: 0.9474\n",
            "Epoch 00054: val_acc did not improve from 0.73750\n",
            "639/639 [==============================] - 5s 8ms/sample - loss: 0.1995 - acc: 0.9405 - val_loss: 0.9889 - val_acc: 0.6687\n",
            "Epoch 55/100\n",
            "608/639 [===========================>..] - ETA: 0s - loss: 0.2619 - acc: 0.8931\n",
            "Epoch 00055: val_acc did not improve from 0.73750\n",
            "639/639 [==============================] - 5s 7ms/sample - loss: 0.2596 - acc: 0.8951 - val_loss: 1.1571 - val_acc: 0.6625\n",
            "Epoch 56/100\n",
            "608/639 [===========================>..] - ETA: 0s - loss: 0.2135 - acc: 0.9260\n",
            "Epoch 00056: val_acc did not improve from 0.73750\n",
            "639/639 [==============================] - 5s 7ms/sample - loss: 0.2154 - acc: 0.9249 - val_loss: 0.9155 - val_acc: 0.7063\n",
            "Epoch 57/100\n",
            "608/639 [===========================>..] - ETA: 0s - loss: 0.1863 - acc: 0.9391\n",
            "Epoch 00057: val_acc did not improve from 0.73750\n",
            "639/639 [==============================] - 5s 7ms/sample - loss: 0.1872 - acc: 0.9390 - val_loss: 0.9456 - val_acc: 0.6875\n",
            "Epoch 58/100\n",
            "608/639 [===========================>..] - ETA: 0s - loss: 0.2649 - acc: 0.8997\n",
            "Epoch 00058: val_acc did not improve from 0.73750\n",
            "639/639 [==============================] - 5s 8ms/sample - loss: 0.2634 - acc: 0.8998 - val_loss: 1.0161 - val_acc: 0.6750\n",
            "Epoch 59/100\n",
            "608/639 [===========================>..] - ETA: 0s - loss: 0.2419 - acc: 0.9178\n",
            "Epoch 00059: val_acc did not improve from 0.73750\n",
            "639/639 [==============================] - 5s 8ms/sample - loss: 0.2401 - acc: 0.9171 - val_loss: 1.0711 - val_acc: 0.7125\n",
            "Epoch 60/100\n",
            "608/639 [===========================>..] - ETA: 0s - loss: 0.1950 - acc: 0.9260\n",
            "Epoch 00060: val_acc did not improve from 0.73750\n",
            "639/639 [==============================] - 5s 7ms/sample - loss: 0.1892 - acc: 0.9280 - val_loss: 0.9914 - val_acc: 0.6750\n",
            "Epoch 61/100\n",
            "608/639 [===========================>..] - ETA: 0s - loss: 0.1651 - acc: 0.9441\n",
            "Epoch 00061: val_acc did not improve from 0.73750\n",
            "639/639 [==============================] - 5s 8ms/sample - loss: 0.1724 - acc: 0.9421 - val_loss: 1.0321 - val_acc: 0.6938\n",
            "Epoch 62/100\n",
            "608/639 [===========================>..] - ETA: 0s - loss: 0.1592 - acc: 0.9457\n",
            "Epoch 00062: val_acc did not improve from 0.73750\n",
            "639/639 [==============================] - 5s 8ms/sample - loss: 0.1595 - acc: 0.9468 - val_loss: 1.1250 - val_acc: 0.7375\n",
            "Epoch 63/100\n",
            "608/639 [===========================>..] - ETA: 0s - loss: 0.1679 - acc: 0.9408\n",
            "Epoch 00063: val_acc did not improve from 0.73750\n",
            "639/639 [==============================] - 5s 8ms/sample - loss: 0.1645 - acc: 0.9437 - val_loss: 0.9970 - val_acc: 0.7188\n",
            "Epoch 00063: early stopping\n"
          ],
          "name": "stdout"
        }
      ]
    },
    {
      "cell_type": "code",
      "metadata": {
        "id": "7GWDZP8D1AzV",
        "colab_type": "code",
        "colab": {
          "base_uri": "https://localhost:8080/",
          "height": 265
        },
        "outputId": "c3dc4bea-3110-48d4-ab3e-a32f4842b83d"
      },
      "source": [
        "plt.plot(history.history['loss'], label='train') \n",
        "plt.plot(history.history['val_loss'], label='validation') \n",
        "plt.legend()\n",
        "plt.show()"
      ],
      "execution_count": 45,
      "outputs": [
        {
          "output_type": "display_data",
          "data": {
            "image/png": "[encoded data removed]",
            "text/plain": [
              "<Figure size 432x288 with 1 Axes>"
            ]
          },
          "metadata": {
            "tags": []
          }
        }
      ]
    }
  ]
}